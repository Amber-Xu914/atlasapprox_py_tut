{
 "cells": [
  {
   "cell_type": "markdown",
   "metadata": {},
   "source": [
    "# **Exploring average gene expression with atlasapprox API**"
   ]
  },
  {
   "cell_type": "markdown",
   "metadata": {},
   "source": [
    "When investigating cell atlases, a common approach is to explore gene expression patterns across different cell types and organs. This tutorial will demonstrate how to use the `atlasapprox` Python API to query and analyze average gene expression data for any species in our database. We'll explore a range of use cases that illustrate various methods for accessing and comparing gene expression profiles. "
   ]
  },
  {
   "cell_type": "markdown",
   "metadata": {},
   "source": [
    "## **Initialize the API**"
   ]
  },
  {
   "cell_type": "markdown",
   "metadata": {},
   "source": [
    "Import the atlasapprox in python and create an API object:"
   ]
  },
  {
   "cell_type": "code",
   "execution_count": null,
   "metadata": {},
   "outputs": [],
   "source": [
    "import atlasapprox\n",
    "\n",
    "api = atlasapprox.API()"
   ]
  },
  {
   "cell_type": "markdown",
   "metadata": {},
   "source": [
    "For detailed initial setup instructions, refer to the [Quick Start Tutorial](link to quick_start)."
   ]
  },
  {
   "cell_type": "markdown",
   "metadata": {},
   "source": [
    "## **Querying average gene expression data**"
   ]
  },
  {
   "cell_type": "markdown",
   "metadata": {},
   "source": [
    "A convenient way to query and fetch gene expression data is to use the `average` method of the `atlasapprox` API. It allows you to retrieve the the average gene expression for selected genes within a specific organ of an organism.\n",
    "\n",
    "The following example demonstrates how to retrieve the average expression of four genes (*TP53*, *KRAS*, *EGFR*, *ALK*) in the human lung:"
   ]
  },
  {
   "cell_type": "code",
   "execution_count": 19,
   "metadata": {},
   "outputs": [
    {
     "data": {
      "text/html": [
       "<div>\n",
       "<style scoped>\n",
       "    .dataframe tbody tr th:only-of-type {\n",
       "        vertical-align: middle;\n",
       "    }\n",
       "\n",
       "    .dataframe tbody tr th {\n",
       "        vertical-align: top;\n",
       "    }\n",
       "\n",
       "    .dataframe thead th {\n",
       "        text-align: right;\n",
       "    }\n",
       "</style>\n",
       "<table border=\"1\" class=\"dataframe\">\n",
       "  <thead>\n",
       "    <tr style=\"text-align: right;\">\n",
       "      <th></th>\n",
       "      <th>neutrophil</th>\n",
       "      <th>basophil</th>\n",
       "      <th>monocyte</th>\n",
       "      <th>macrophage</th>\n",
       "      <th>dendritic</th>\n",
       "      <th>B</th>\n",
       "      <th>plasma</th>\n",
       "      <th>T</th>\n",
       "      <th>NK</th>\n",
       "      <th>plasmacytoid</th>\n",
       "      <th>...</th>\n",
       "      <th>capillary</th>\n",
       "      <th>CAP2</th>\n",
       "      <th>lymphatic</th>\n",
       "      <th>fibroblast</th>\n",
       "      <th>alveolar fibroblast</th>\n",
       "      <th>smooth muscle</th>\n",
       "      <th>vascular smooth muscle</th>\n",
       "      <th>pericyte</th>\n",
       "      <th>mesothelial</th>\n",
       "      <th>ionocyte</th>\n",
       "    </tr>\n",
       "  </thead>\n",
       "  <tbody>\n",
       "    <tr>\n",
       "      <th>TP53</th>\n",
       "      <td>0.054815</td>\n",
       "      <td>0.119978</td>\n",
       "      <td>0.327787</td>\n",
       "      <td>0.132754</td>\n",
       "      <td>0.238697</td>\n",
       "      <td>0.178123</td>\n",
       "      <td>0.038301</td>\n",
       "      <td>0.202786</td>\n",
       "      <td>0.239634</td>\n",
       "      <td>0.074571</td>\n",
       "      <td>...</td>\n",
       "      <td>0.219169</td>\n",
       "      <td>0.126632</td>\n",
       "      <td>0.254856</td>\n",
       "      <td>0.175867</td>\n",
       "      <td>0.160920</td>\n",
       "      <td>0.110756</td>\n",
       "      <td>0.193365</td>\n",
       "      <td>0.252695</td>\n",
       "      <td>0.152536</td>\n",
       "      <td>0.227391</td>\n",
       "    </tr>\n",
       "    <tr>\n",
       "      <th>KRAS</th>\n",
       "      <td>1.529643</td>\n",
       "      <td>0.436303</td>\n",
       "      <td>0.977728</td>\n",
       "      <td>0.489622</td>\n",
       "      <td>0.443576</td>\n",
       "      <td>0.562167</td>\n",
       "      <td>0.243355</td>\n",
       "      <td>0.826480</td>\n",
       "      <td>0.767580</td>\n",
       "      <td>0.467747</td>\n",
       "      <td>...</td>\n",
       "      <td>1.357422</td>\n",
       "      <td>1.346849</td>\n",
       "      <td>0.794639</td>\n",
       "      <td>0.249971</td>\n",
       "      <td>0.388602</td>\n",
       "      <td>0.582125</td>\n",
       "      <td>0.251247</td>\n",
       "      <td>0.708356</td>\n",
       "      <td>0.319821</td>\n",
       "      <td>0.714599</td>\n",
       "    </tr>\n",
       "    <tr>\n",
       "      <th>EGFR</th>\n",
       "      <td>0.016721</td>\n",
       "      <td>0.024823</td>\n",
       "      <td>0.028325</td>\n",
       "      <td>0.011413</td>\n",
       "      <td>0.000949</td>\n",
       "      <td>0.138468</td>\n",
       "      <td>0.031597</td>\n",
       "      <td>0.064145</td>\n",
       "      <td>0.051909</td>\n",
       "      <td>0.000000</td>\n",
       "      <td>...</td>\n",
       "      <td>0.579046</td>\n",
       "      <td>0.736705</td>\n",
       "      <td>0.085129</td>\n",
       "      <td>0.666291</td>\n",
       "      <td>0.720418</td>\n",
       "      <td>0.670286</td>\n",
       "      <td>0.528496</td>\n",
       "      <td>0.980535</td>\n",
       "      <td>0.225700</td>\n",
       "      <td>2.810568</td>\n",
       "    </tr>\n",
       "    <tr>\n",
       "      <th>ALK</th>\n",
       "      <td>0.000000</td>\n",
       "      <td>0.000000</td>\n",
       "      <td>0.001285</td>\n",
       "      <td>0.013633</td>\n",
       "      <td>0.000000</td>\n",
       "      <td>0.000000</td>\n",
       "      <td>0.000000</td>\n",
       "      <td>0.002077</td>\n",
       "      <td>0.000000</td>\n",
       "      <td>0.000000</td>\n",
       "      <td>...</td>\n",
       "      <td>0.001188</td>\n",
       "      <td>0.000000</td>\n",
       "      <td>0.000000</td>\n",
       "      <td>0.000689</td>\n",
       "      <td>0.004787</td>\n",
       "      <td>0.000000</td>\n",
       "      <td>0.000000</td>\n",
       "      <td>0.000000</td>\n",
       "      <td>0.000000</td>\n",
       "      <td>0.000000</td>\n",
       "    </tr>\n",
       "  </tbody>\n",
       "</table>\n",
       "<p>4 rows × 30 columns</p>\n",
       "</div>"
      ],
      "text/plain": [
       "      neutrophil  basophil  monocyte  macrophage  dendritic         B  \\\n",
       "TP53    0.054815  0.119978  0.327787    0.132754   0.238697  0.178123   \n",
       "KRAS    1.529643  0.436303  0.977728    0.489622   0.443576  0.562167   \n",
       "EGFR    0.016721  0.024823  0.028325    0.011413   0.000949  0.138468   \n",
       "ALK     0.000000  0.000000  0.001285    0.013633   0.000000  0.000000   \n",
       "\n",
       "        plasma         T        NK  plasmacytoid  ...  capillary      CAP2  \\\n",
       "TP53  0.038301  0.202786  0.239634      0.074571  ...   0.219169  0.126632   \n",
       "KRAS  0.243355  0.826480  0.767580      0.467747  ...   1.357422  1.346849   \n",
       "EGFR  0.031597  0.064145  0.051909      0.000000  ...   0.579046  0.736705   \n",
       "ALK   0.000000  0.002077  0.000000      0.000000  ...   0.001188  0.000000   \n",
       "\n",
       "      lymphatic  fibroblast  alveolar fibroblast  smooth muscle  \\\n",
       "TP53   0.254856    0.175867             0.160920       0.110756   \n",
       "KRAS   0.794639    0.249971             0.388602       0.582125   \n",
       "EGFR   0.085129    0.666291             0.720418       0.670286   \n",
       "ALK    0.000000    0.000689             0.004787       0.000000   \n",
       "\n",
       "      vascular smooth muscle  pericyte  mesothelial  ionocyte  \n",
       "TP53                0.193365  0.252695     0.152536  0.227391  \n",
       "KRAS                0.251247  0.708356     0.319821  0.714599  \n",
       "EGFR                0.528496  0.980535     0.225700  2.810568  \n",
       "ALK                 0.000000  0.000000     0.000000  0.000000  \n",
       "\n",
       "[4 rows x 30 columns]"
      ]
     },
     "metadata": {},
     "output_type": "display_data"
    }
   ],
   "source": [
    "avg_gene_expr_lung = api.average(\n",
    "    organism = \"h_sapiens\", \n",
    "    organ = \"lung\", \n",
    "    features = [\"TP53\", \"KRAS\", \"EGFR\", \"ALK\"],\n",
    "    measurement_type = 'gene_expression'\n",
    ")\n",
    "\n",
    "# Display the result\n",
    "display(avg_gene_expr_lung)"
   ]
  },
  {
   "cell_type": "markdown",
   "metadata": {},
   "source": [
    "#### Output\n",
    "The function returns a *Pandas DataFrame* where:\n",
    "\n",
    "* Each row represents a gene.\n",
    "* Each column corresponds to a cell type.\n",
    "* The values indicate the average gene expression, measured in counts per ten thousand (cptt)."
   ]
  },
  {
   "cell_type": "markdown",
   "metadata": {},
   "source": [
    "## **Querying average gene expression for multiple organs**"
   ]
  },
  {
   "cell_type": "markdown",
   "metadata": {},
   "source": [
    "For comprehensive analysis, you may want to explore gene expression across multiple organs within the same species. \n",
    "\n",
    "This example shows the average gene expression for four specified genes (*TP53*, *KRAS*, *EGFR*, *ALK*) across three human organs (*bladder*, *blood*, and *colon*)."
   ]
  },
  {
   "cell_type": "code",
   "execution_count": 4,
   "metadata": {},
   "outputs": [
    {
     "name": "stdout",
     "output_type": "stream",
     "text": [
      "Average gene expression in human bladder:\n"
     ]
    },
    {
     "data": {
      "text/html": [
       "<div>\n",
       "<style scoped>\n",
       "    .dataframe tbody tr th:only-of-type {\n",
       "        vertical-align: middle;\n",
       "    }\n",
       "\n",
       "    .dataframe tbody tr th {\n",
       "        vertical-align: top;\n",
       "    }\n",
       "\n",
       "    .dataframe thead th {\n",
       "        text-align: right;\n",
       "    }\n",
       "</style>\n",
       "<table border=\"1\" class=\"dataframe\">\n",
       "  <thead>\n",
       "    <tr style=\"text-align: right;\">\n",
       "      <th></th>\n",
       "      <th>mast</th>\n",
       "      <th>macrophage</th>\n",
       "      <th>B</th>\n",
       "      <th>plasma</th>\n",
       "      <th>T</th>\n",
       "      <th>NK</th>\n",
       "      <th>plasmacytoid</th>\n",
       "      <th>urothelial</th>\n",
       "      <th>venous</th>\n",
       "      <th>capillary</th>\n",
       "      <th>lymphatic</th>\n",
       "      <th>fibroblast</th>\n",
       "      <th>smooth muscle</th>\n",
       "      <th>pericyte</th>\n",
       "    </tr>\n",
       "  </thead>\n",
       "  <tbody>\n",
       "    <tr>\n",
       "      <th>TP53</th>\n",
       "      <td>0.051055</td>\n",
       "      <td>0.188240</td>\n",
       "      <td>0.327816</td>\n",
       "      <td>0.053807</td>\n",
       "      <td>0.147462</td>\n",
       "      <td>0.314548</td>\n",
       "      <td>0.398251</td>\n",
       "      <td>0.162376</td>\n",
       "      <td>0.339704</td>\n",
       "      <td>0.217849</td>\n",
       "      <td>0.104213</td>\n",
       "      <td>0.111125</td>\n",
       "      <td>0.162751</td>\n",
       "      <td>0.112216</td>\n",
       "    </tr>\n",
       "    <tr>\n",
       "      <th>KRAS</th>\n",
       "      <td>0.564742</td>\n",
       "      <td>0.690973</td>\n",
       "      <td>1.319512</td>\n",
       "      <td>0.357356</td>\n",
       "      <td>1.065008</td>\n",
       "      <td>1.569626</td>\n",
       "      <td>0.354131</td>\n",
       "      <td>0.537687</td>\n",
       "      <td>0.719438</td>\n",
       "      <td>0.811878</td>\n",
       "      <td>0.722906</td>\n",
       "      <td>0.393044</td>\n",
       "      <td>0.612407</td>\n",
       "      <td>0.582806</td>\n",
       "    </tr>\n",
       "    <tr>\n",
       "      <th>EGFR</th>\n",
       "      <td>0.014139</td>\n",
       "      <td>0.020800</td>\n",
       "      <td>0.011188</td>\n",
       "      <td>0.006583</td>\n",
       "      <td>0.007657</td>\n",
       "      <td>0.006421</td>\n",
       "      <td>0.000000</td>\n",
       "      <td>0.290386</td>\n",
       "      <td>0.041818</td>\n",
       "      <td>0.076526</td>\n",
       "      <td>0.000000</td>\n",
       "      <td>0.897405</td>\n",
       "      <td>0.489930</td>\n",
       "      <td>0.349536</td>\n",
       "    </tr>\n",
       "    <tr>\n",
       "      <th>ALK</th>\n",
       "      <td>0.001072</td>\n",
       "      <td>0.007006</td>\n",
       "      <td>0.000000</td>\n",
       "      <td>0.000000</td>\n",
       "      <td>0.003232</td>\n",
       "      <td>0.000000</td>\n",
       "      <td>0.000000</td>\n",
       "      <td>0.000645</td>\n",
       "      <td>0.000000</td>\n",
       "      <td>0.000000</td>\n",
       "      <td>0.000000</td>\n",
       "      <td>0.000287</td>\n",
       "      <td>0.001065</td>\n",
       "      <td>0.003441</td>\n",
       "    </tr>\n",
       "  </tbody>\n",
       "</table>\n",
       "</div>"
      ],
      "text/plain": [
       "          mast  macrophage         B    plasma         T        NK  \\\n",
       "TP53  0.051055    0.188240  0.327816  0.053807  0.147462  0.314548   \n",
       "KRAS  0.564742    0.690973  1.319512  0.357356  1.065008  1.569626   \n",
       "EGFR  0.014139    0.020800  0.011188  0.006583  0.007657  0.006421   \n",
       "ALK   0.001072    0.007006  0.000000  0.000000  0.003232  0.000000   \n",
       "\n",
       "      plasmacytoid  urothelial    venous  capillary  lymphatic  fibroblast  \\\n",
       "TP53      0.398251    0.162376  0.339704   0.217849   0.104213    0.111125   \n",
       "KRAS      0.354131    0.537687  0.719438   0.811878   0.722906    0.393044   \n",
       "EGFR      0.000000    0.290386  0.041818   0.076526   0.000000    0.897405   \n",
       "ALK       0.000000    0.000645  0.000000   0.000000   0.000000    0.000287   \n",
       "\n",
       "      smooth muscle  pericyte  \n",
       "TP53       0.162751  0.112216  \n",
       "KRAS       0.612407  0.582806  \n",
       "EGFR       0.489930  0.349536  \n",
       "ALK        0.001065  0.003441  "
      ]
     },
     "metadata": {},
     "output_type": "display_data"
    },
    {
     "name": "stdout",
     "output_type": "stream",
     "text": [
      "Average gene expression in human blood:\n"
     ]
    },
    {
     "data": {
      "text/html": [
       "<div>\n",
       "<style scoped>\n",
       "    .dataframe tbody tr th:only-of-type {\n",
       "        vertical-align: middle;\n",
       "    }\n",
       "\n",
       "    .dataframe tbody tr th {\n",
       "        vertical-align: top;\n",
       "    }\n",
       "\n",
       "    .dataframe thead th {\n",
       "        text-align: right;\n",
       "    }\n",
       "</style>\n",
       "<table border=\"1\" class=\"dataframe\">\n",
       "  <thead>\n",
       "    <tr style=\"text-align: right;\">\n",
       "      <th></th>\n",
       "      <th>HSC</th>\n",
       "      <th>neutrophil</th>\n",
       "      <th>basophil</th>\n",
       "      <th>myeloid</th>\n",
       "      <th>monocyte</th>\n",
       "      <th>macrophage</th>\n",
       "      <th>dendritic</th>\n",
       "      <th>erythrocyte</th>\n",
       "      <th>B</th>\n",
       "      <th>plasma</th>\n",
       "      <th>T</th>\n",
       "      <th>NK</th>\n",
       "      <th>plasmacytoid</th>\n",
       "      <th>platelet</th>\n",
       "    </tr>\n",
       "  </thead>\n",
       "  <tbody>\n",
       "    <tr>\n",
       "      <th>TP53</th>\n",
       "      <td>0.429484</td>\n",
       "      <td>0.019245</td>\n",
       "      <td>0.550442</td>\n",
       "      <td>0.757884</td>\n",
       "      <td>0.282390</td>\n",
       "      <td>0.409350</td>\n",
       "      <td>0.153117</td>\n",
       "      <td>0.004213</td>\n",
       "      <td>0.287588</td>\n",
       "      <td>0.174535</td>\n",
       "      <td>0.205015</td>\n",
       "      <td>0.241251</td>\n",
       "      <td>0.401704</td>\n",
       "      <td>0.060797</td>\n",
       "    </tr>\n",
       "    <tr>\n",
       "      <th>KRAS</th>\n",
       "      <td>0.701804</td>\n",
       "      <td>1.378338</td>\n",
       "      <td>1.040511</td>\n",
       "      <td>0.776177</td>\n",
       "      <td>0.804196</td>\n",
       "      <td>0.684039</td>\n",
       "      <td>1.118797</td>\n",
       "      <td>0.020610</td>\n",
       "      <td>0.494324</td>\n",
       "      <td>0.654123</td>\n",
       "      <td>0.790222</td>\n",
       "      <td>0.788223</td>\n",
       "      <td>0.670320</td>\n",
       "      <td>0.370046</td>\n",
       "    </tr>\n",
       "    <tr>\n",
       "      <th>EGFR</th>\n",
       "      <td>0.000000</td>\n",
       "      <td>0.000190</td>\n",
       "      <td>0.000000</td>\n",
       "      <td>0.000000</td>\n",
       "      <td>0.000307</td>\n",
       "      <td>0.000000</td>\n",
       "      <td>0.000000</td>\n",
       "      <td>0.000325</td>\n",
       "      <td>0.000000</td>\n",
       "      <td>0.000000</td>\n",
       "      <td>0.000000</td>\n",
       "      <td>0.000010</td>\n",
       "      <td>0.000000</td>\n",
       "      <td>0.000000</td>\n",
       "    </tr>\n",
       "    <tr>\n",
       "      <th>ALK</th>\n",
       "      <td>0.000000</td>\n",
       "      <td>0.000000</td>\n",
       "      <td>0.000000</td>\n",
       "      <td>0.000000</td>\n",
       "      <td>0.001128</td>\n",
       "      <td>0.008228</td>\n",
       "      <td>0.000000</td>\n",
       "      <td>0.000000</td>\n",
       "      <td>0.000000</td>\n",
       "      <td>0.003425</td>\n",
       "      <td>0.001432</td>\n",
       "      <td>0.000239</td>\n",
       "      <td>0.000000</td>\n",
       "      <td>0.000000</td>\n",
       "    </tr>\n",
       "  </tbody>\n",
       "</table>\n",
       "</div>"
      ],
      "text/plain": [
       "           HSC  neutrophil  basophil   myeloid  monocyte  macrophage  \\\n",
       "TP53  0.429484    0.019245  0.550442  0.757884  0.282390    0.409350   \n",
       "KRAS  0.701804    1.378338  1.040511  0.776177  0.804196    0.684039   \n",
       "EGFR  0.000000    0.000190  0.000000  0.000000  0.000307    0.000000   \n",
       "ALK   0.000000    0.000000  0.000000  0.000000  0.001128    0.008228   \n",
       "\n",
       "      dendritic  erythrocyte         B    plasma         T        NK  \\\n",
       "TP53   0.153117     0.004213  0.287588  0.174535  0.205015  0.241251   \n",
       "KRAS   1.118797     0.020610  0.494324  0.654123  0.790222  0.788223   \n",
       "EGFR   0.000000     0.000325  0.000000  0.000000  0.000000  0.000010   \n",
       "ALK    0.000000     0.000000  0.000000  0.003425  0.001432  0.000239   \n",
       "\n",
       "      plasmacytoid  platelet  \n",
       "TP53      0.401704  0.060797  \n",
       "KRAS      0.670320  0.370046  \n",
       "EGFR      0.000000  0.000000  \n",
       "ALK       0.000000  0.000000  "
      ]
     },
     "metadata": {},
     "output_type": "display_data"
    },
    {
     "name": "stdout",
     "output_type": "stream",
     "text": [
      "Average gene expression in human colon:\n"
     ]
    },
    {
     "data": {
      "text/html": [
       "<div>\n",
       "<style scoped>\n",
       "    .dataframe tbody tr th:only-of-type {\n",
       "        vertical-align: middle;\n",
       "    }\n",
       "\n",
       "    .dataframe tbody tr th {\n",
       "        vertical-align: top;\n",
       "    }\n",
       "\n",
       "    .dataframe thead th {\n",
       "        text-align: right;\n",
       "    }\n",
       "</style>\n",
       "<table border=\"1\" class=\"dataframe\">\n",
       "  <thead>\n",
       "    <tr style=\"text-align: right;\">\n",
       "      <th></th>\n",
       "      <th>neutrophil</th>\n",
       "      <th>mast</th>\n",
       "      <th>monocyte</th>\n",
       "      <th>B</th>\n",
       "      <th>plasma</th>\n",
       "      <th>T</th>\n",
       "      <th>goblet</th>\n",
       "      <th>brush</th>\n",
       "      <th>crypt</th>\n",
       "      <th>transit amp</th>\n",
       "      <th>enterocyte</th>\n",
       "      <th>paneth</th>\n",
       "      <th>venous</th>\n",
       "      <th>capillary</th>\n",
       "      <th>fibroblast</th>\n",
       "      <th>enteroendocrine</th>\n",
       "    </tr>\n",
       "  </thead>\n",
       "  <tbody>\n",
       "    <tr>\n",
       "      <th>TP53</th>\n",
       "      <td>0.111315</td>\n",
       "      <td>0.033383</td>\n",
       "      <td>0.085653</td>\n",
       "      <td>0.185189</td>\n",
       "      <td>0.025554</td>\n",
       "      <td>0.068610</td>\n",
       "      <td>0.063521</td>\n",
       "      <td>0.013328</td>\n",
       "      <td>0.267211</td>\n",
       "      <td>0.449279</td>\n",
       "      <td>0.089426</td>\n",
       "      <td>0.076705</td>\n",
       "      <td>0.239154</td>\n",
       "      <td>0.000000</td>\n",
       "      <td>0.136570</td>\n",
       "      <td>0.236432</td>\n",
       "    </tr>\n",
       "    <tr>\n",
       "      <th>KRAS</th>\n",
       "      <td>0.864672</td>\n",
       "      <td>0.984021</td>\n",
       "      <td>0.556534</td>\n",
       "      <td>2.100426</td>\n",
       "      <td>0.726135</td>\n",
       "      <td>0.985572</td>\n",
       "      <td>0.522061</td>\n",
       "      <td>0.132280</td>\n",
       "      <td>0.424796</td>\n",
       "      <td>0.557470</td>\n",
       "      <td>0.619195</td>\n",
       "      <td>0.907783</td>\n",
       "      <td>0.504579</td>\n",
       "      <td>1.104401</td>\n",
       "      <td>0.388044</td>\n",
       "      <td>1.011600</td>\n",
       "    </tr>\n",
       "    <tr>\n",
       "      <th>EGFR</th>\n",
       "      <td>0.058211</td>\n",
       "      <td>0.000000</td>\n",
       "      <td>0.017700</td>\n",
       "      <td>0.016101</td>\n",
       "      <td>0.003320</td>\n",
       "      <td>0.012897</td>\n",
       "      <td>0.183984</td>\n",
       "      <td>0.011498</td>\n",
       "      <td>0.225115</td>\n",
       "      <td>0.284618</td>\n",
       "      <td>0.174868</td>\n",
       "      <td>0.074162</td>\n",
       "      <td>0.000000</td>\n",
       "      <td>0.111962</td>\n",
       "      <td>1.088221</td>\n",
       "      <td>0.146555</td>\n",
       "    </tr>\n",
       "    <tr>\n",
       "      <th>ALK</th>\n",
       "      <td>0.000000</td>\n",
       "      <td>0.000000</td>\n",
       "      <td>0.035261</td>\n",
       "      <td>0.000000</td>\n",
       "      <td>0.001314</td>\n",
       "      <td>0.001540</td>\n",
       "      <td>0.000800</td>\n",
       "      <td>0.000000</td>\n",
       "      <td>0.000000</td>\n",
       "      <td>0.000000</td>\n",
       "      <td>0.000854</td>\n",
       "      <td>0.000000</td>\n",
       "      <td>0.000000</td>\n",
       "      <td>0.000000</td>\n",
       "      <td>0.002482</td>\n",
       "      <td>0.000000</td>\n",
       "    </tr>\n",
       "  </tbody>\n",
       "</table>\n",
       "</div>"
      ],
      "text/plain": [
       "      neutrophil      mast  monocyte         B    plasma         T    goblet  \\\n",
       "TP53    0.111315  0.033383  0.085653  0.185189  0.025554  0.068610  0.063521   \n",
       "KRAS    0.864672  0.984021  0.556534  2.100426  0.726135  0.985572  0.522061   \n",
       "EGFR    0.058211  0.000000  0.017700  0.016101  0.003320  0.012897  0.183984   \n",
       "ALK     0.000000  0.000000  0.035261  0.000000  0.001314  0.001540  0.000800   \n",
       "\n",
       "         brush     crypt  transit amp  enterocyte    paneth    venous  \\\n",
       "TP53  0.013328  0.267211     0.449279    0.089426  0.076705  0.239154   \n",
       "KRAS  0.132280  0.424796     0.557470    0.619195  0.907783  0.504579   \n",
       "EGFR  0.011498  0.225115     0.284618    0.174868  0.074162  0.000000   \n",
       "ALK   0.000000  0.000000     0.000000    0.000854  0.000000  0.000000   \n",
       "\n",
       "      capillary  fibroblast  enteroendocrine  \n",
       "TP53   0.000000    0.136570         0.236432  \n",
       "KRAS   1.104401    0.388044         1.011600  \n",
       "EGFR   0.111962    1.088221         0.146555  \n",
       "ALK    0.000000    0.002482         0.000000  "
      ]
     },
     "metadata": {},
     "output_type": "display_data"
    }
   ],
   "source": [
    "# To select an organ_list, you can specify the desired organ.\n",
    "organ_list = ['bladder','blood','colon']\n",
    "\n",
    "# loop through organ_list and display the results\n",
    "for organ in organ_list: \n",
    "    avg_gene_expr = api.average(\n",
    "        organism = \"h_sapiens\", \n",
    "        organ = organ, \n",
    "        features = [\"TP53\", \"KRAS\", \"EGFR\", \"ALK\"],\n",
    "    )\n",
    "\n",
    "    print(f'Average gene expression in human {organ}:')\n",
    "    display(avg_gene_expr)"
   ]
  },
  {
   "cell_type": "markdown",
   "metadata": {},
   "source": [
    "#### Output\n",
    "* The function returns multiple *Pandas DataFrames*, one for each queried organ."
   ]
  },
  {
   "cell_type": "markdown",
   "metadata": {},
   "source": [
    "## **Querying average gene expression of the marker genes**"
   ]
  },
  {
   "cell_type": "markdown",
   "metadata": {},
   "source": [
    "Marker genes are crucial for identifying and visualizing specific cell types within an organism and its organs."
   ]
  },
  {
   "cell_type": "markdown",
   "metadata": {},
   "source": [
    "The following example displays how to get the average gene expression of the top five marker genes for *neutrophils* in the *human lung*. First, call `markers` funciton from API to get the top 5 marker genes for neutrophils in human lung."
   ]
  },
  {
   "cell_type": "code",
   "execution_count": 15,
   "metadata": {},
   "outputs": [
    {
     "data": {
      "text/plain": [
       "['CXCR2', 'FCGR3B', 'IL1R2', 'G0S2', 'MTND5P32']"
      ]
     },
     "metadata": {},
     "output_type": "display_data"
    }
   ],
   "source": [
    "# Get markers for neutrophils in the human lung\n",
    "markers_in_human_lung_neu = api.markers(\n",
    "    organism=\"h_sapiens\", \n",
    "    organ=\"lung\", \n",
    "    cell_type=\"neutrophil\", \n",
    "    number=5\n",
    ")\n",
    "display(markers_in_human_lung_neu)"
   ]
  },
  {
   "cell_type": "markdown",
   "metadata": {},
   "source": [
    "Then, call `average` function to get the average gene expression of the top 5 marker gene got from above:"
   ]
  },
  {
   "cell_type": "code",
   "execution_count": 16,
   "metadata": {},
   "outputs": [
    {
     "data": {
      "text/html": [
       "<div>\n",
       "<style scoped>\n",
       "    .dataframe tbody tr th:only-of-type {\n",
       "        vertical-align: middle;\n",
       "    }\n",
       "\n",
       "    .dataframe tbody tr th {\n",
       "        vertical-align: top;\n",
       "    }\n",
       "\n",
       "    .dataframe thead th {\n",
       "        text-align: right;\n",
       "    }\n",
       "</style>\n",
       "<table border=\"1\" class=\"dataframe\">\n",
       "  <thead>\n",
       "    <tr style=\"text-align: right;\">\n",
       "      <th></th>\n",
       "      <th>neutrophil</th>\n",
       "      <th>basophil</th>\n",
       "      <th>monocyte</th>\n",
       "      <th>macrophage</th>\n",
       "      <th>dendritic</th>\n",
       "      <th>B</th>\n",
       "      <th>plasma</th>\n",
       "      <th>T</th>\n",
       "      <th>NK</th>\n",
       "      <th>plasmacytoid</th>\n",
       "      <th>...</th>\n",
       "      <th>capillary</th>\n",
       "      <th>CAP2</th>\n",
       "      <th>lymphatic</th>\n",
       "      <th>fibroblast</th>\n",
       "      <th>alveolar fibroblast</th>\n",
       "      <th>smooth muscle</th>\n",
       "      <th>vascular smooth muscle</th>\n",
       "      <th>pericyte</th>\n",
       "      <th>mesothelial</th>\n",
       "      <th>ionocyte</th>\n",
       "    </tr>\n",
       "  </thead>\n",
       "  <tbody>\n",
       "    <tr>\n",
       "      <th>CXCR2</th>\n",
       "      <td>12.413691</td>\n",
       "      <td>0.013190</td>\n",
       "      <td>0.020326</td>\n",
       "      <td>0.068983</td>\n",
       "      <td>0.096474</td>\n",
       "      <td>0.000000</td>\n",
       "      <td>0.000000</td>\n",
       "      <td>0.016979</td>\n",
       "      <td>0.246515</td>\n",
       "      <td>0.188133</td>\n",
       "      <td>...</td>\n",
       "      <td>0.006449</td>\n",
       "      <td>0.000000</td>\n",
       "      <td>0.000000</td>\n",
       "      <td>0.000000</td>\n",
       "      <td>0.005169</td>\n",
       "      <td>0.000000</td>\n",
       "      <td>0.000000</td>\n",
       "      <td>0.000000</td>\n",
       "      <td>0.015745</td>\n",
       "      <td>0.00000</td>\n",
       "    </tr>\n",
       "    <tr>\n",
       "      <th>FCGR3B</th>\n",
       "      <td>11.709410</td>\n",
       "      <td>0.000000</td>\n",
       "      <td>0.020036</td>\n",
       "      <td>0.011601</td>\n",
       "      <td>0.000013</td>\n",
       "      <td>0.000000</td>\n",
       "      <td>0.000000</td>\n",
       "      <td>0.029604</td>\n",
       "      <td>0.023175</td>\n",
       "      <td>0.188133</td>\n",
       "      <td>...</td>\n",
       "      <td>0.006533</td>\n",
       "      <td>0.005917</td>\n",
       "      <td>0.000000</td>\n",
       "      <td>0.004314</td>\n",
       "      <td>0.000000</td>\n",
       "      <td>0.002679</td>\n",
       "      <td>0.000000</td>\n",
       "      <td>0.012478</td>\n",
       "      <td>0.000000</td>\n",
       "      <td>0.00000</td>\n",
       "    </tr>\n",
       "    <tr>\n",
       "      <th>IL1R2</th>\n",
       "      <td>62.680073</td>\n",
       "      <td>0.008473</td>\n",
       "      <td>1.464313</td>\n",
       "      <td>0.055198</td>\n",
       "      <td>1.171577</td>\n",
       "      <td>0.000000</td>\n",
       "      <td>0.034122</td>\n",
       "      <td>0.094902</td>\n",
       "      <td>0.068963</td>\n",
       "      <td>0.000000</td>\n",
       "      <td>...</td>\n",
       "      <td>0.060423</td>\n",
       "      <td>0.037151</td>\n",
       "      <td>0.000000</td>\n",
       "      <td>0.011310</td>\n",
       "      <td>0.011099</td>\n",
       "      <td>0.019712</td>\n",
       "      <td>0.020363</td>\n",
       "      <td>0.046019</td>\n",
       "      <td>0.000000</td>\n",
       "      <td>0.22693</td>\n",
       "    </tr>\n",
       "    <tr>\n",
       "      <th>G0S2</th>\n",
       "      <td>128.728485</td>\n",
       "      <td>0.227576</td>\n",
       "      <td>1.875759</td>\n",
       "      <td>0.382874</td>\n",
       "      <td>2.597629</td>\n",
       "      <td>0.096599</td>\n",
       "      <td>0.349806</td>\n",
       "      <td>0.100881</td>\n",
       "      <td>0.013899</td>\n",
       "      <td>0.465268</td>\n",
       "      <td>...</td>\n",
       "      <td>0.066712</td>\n",
       "      <td>0.020400</td>\n",
       "      <td>0.117118</td>\n",
       "      <td>0.497634</td>\n",
       "      <td>1.780495</td>\n",
       "      <td>0.358832</td>\n",
       "      <td>1.845514</td>\n",
       "      <td>0.266992</td>\n",
       "      <td>0.256909</td>\n",
       "      <td>0.00000</td>\n",
       "    </tr>\n",
       "    <tr>\n",
       "      <th>MTND5P32</th>\n",
       "      <td>7.489127</td>\n",
       "      <td>0.009290</td>\n",
       "      <td>0.060642</td>\n",
       "      <td>0.060736</td>\n",
       "      <td>0.002854</td>\n",
       "      <td>0.000000</td>\n",
       "      <td>0.000000</td>\n",
       "      <td>0.020875</td>\n",
       "      <td>0.000000</td>\n",
       "      <td>0.000000</td>\n",
       "      <td>...</td>\n",
       "      <td>0.002961</td>\n",
       "      <td>0.000000</td>\n",
       "      <td>0.000000</td>\n",
       "      <td>0.000000</td>\n",
       "      <td>0.000000</td>\n",
       "      <td>0.000000</td>\n",
       "      <td>0.000000</td>\n",
       "      <td>0.000000</td>\n",
       "      <td>0.036540</td>\n",
       "      <td>0.00000</td>\n",
       "    </tr>\n",
       "  </tbody>\n",
       "</table>\n",
       "<p>5 rows × 30 columns</p>\n",
       "</div>"
      ],
      "text/plain": [
       "          neutrophil  basophil  monocyte  macrophage  dendritic         B  \\\n",
       "CXCR2      12.413691  0.013190  0.020326    0.068983   0.096474  0.000000   \n",
       "FCGR3B     11.709410  0.000000  0.020036    0.011601   0.000013  0.000000   \n",
       "IL1R2      62.680073  0.008473  1.464313    0.055198   1.171577  0.000000   \n",
       "G0S2      128.728485  0.227576  1.875759    0.382874   2.597629  0.096599   \n",
       "MTND5P32    7.489127  0.009290  0.060642    0.060736   0.002854  0.000000   \n",
       "\n",
       "            plasma         T        NK  plasmacytoid  ...  capillary  \\\n",
       "CXCR2     0.000000  0.016979  0.246515      0.188133  ...   0.006449   \n",
       "FCGR3B    0.000000  0.029604  0.023175      0.188133  ...   0.006533   \n",
       "IL1R2     0.034122  0.094902  0.068963      0.000000  ...   0.060423   \n",
       "G0S2      0.349806  0.100881  0.013899      0.465268  ...   0.066712   \n",
       "MTND5P32  0.000000  0.020875  0.000000      0.000000  ...   0.002961   \n",
       "\n",
       "              CAP2  lymphatic  fibroblast  alveolar fibroblast  smooth muscle  \\\n",
       "CXCR2     0.000000   0.000000    0.000000             0.005169       0.000000   \n",
       "FCGR3B    0.005917   0.000000    0.004314             0.000000       0.002679   \n",
       "IL1R2     0.037151   0.000000    0.011310             0.011099       0.019712   \n",
       "G0S2      0.020400   0.117118    0.497634             1.780495       0.358832   \n",
       "MTND5P32  0.000000   0.000000    0.000000             0.000000       0.000000   \n",
       "\n",
       "          vascular smooth muscle  pericyte  mesothelial  ionocyte  \n",
       "CXCR2                   0.000000  0.000000     0.015745   0.00000  \n",
       "FCGR3B                  0.000000  0.012478     0.000000   0.00000  \n",
       "IL1R2                   0.020363  0.046019     0.000000   0.22693  \n",
       "G0S2                    1.845514  0.266992     0.256909   0.00000  \n",
       "MTND5P32                0.000000  0.000000     0.036540   0.00000  \n",
       "\n",
       "[5 rows x 30 columns]"
      ]
     },
     "metadata": {},
     "output_type": "display_data"
    }
   ],
   "source": [
    "# Get average gene expression for the markers\n",
    "avg_gene_expr_markers = api.average(\n",
    "    organism=\"h_sapiens\",\n",
    "    organ=\"lung\",\n",
    "    features=markers_in_human_lung_neu\n",
    ")\n",
    "\n",
    "display(avg_gene_expr_markers)"
   ]
  },
  {
   "cell_type": "markdown",
   "metadata": {},
   "source": [
    "#### Output\n",
    "* The function returns a *Pandas DataFrame* and displays the average gene expression of the top three marker genes for neutrophils in the human lung across all available cell types."
   ]
  },
  {
   "cell_type": "markdown",
   "metadata": {},
   "source": [
    "## **Start from scratch**"
   ]
  },
  {
   "cell_type": "markdown",
   "metadata": {},
   "source": [
    "The API provides several functions that can show you all accessible organisms, organs, and cell types. If you're starting from scratch, the following steps will help you explore the API."
   ]
  },
  {
   "cell_type": "markdown",
   "metadata": {},
   "source": [
    "### 1. Get available organisms"
   ]
  },
  {
   "cell_type": "markdown",
   "metadata": {},
   "source": [
    "The following example demonstrates how to retrieve a list of available organisms from the API. "
   ]
  },
  {
   "cell_type": "code",
   "execution_count": 17,
   "metadata": {},
   "outputs": [
    {
     "data": {
      "text/plain": [
       "{'gene_expression': ['a_queenslandica',\n",
       "  'a_thaliana',\n",
       "  'c_elegans',\n",
       "  'c_gigas',\n",
       "  'c_hemisphaerica',\n",
       "  'd_melanogaster',\n",
       "  'd_rerio',\n",
       "  'f_vesca',\n",
       "  'h_miamia',\n",
       "  'h_sapiens',\n",
       "  'i_pulchra',\n",
       "  'l_minuta',\n",
       "  'm_leidyi',\n",
       "  'm_murinus',\n",
       "  'm_musculus',\n",
       "  'n_vectensis',\n",
       "  'o_sativa',\n",
       "  'p_crozieri',\n",
       "  'p_dumerilii',\n",
       "  's_lacustris',\n",
       "  's_mansoni',\n",
       "  's_mediterranea',\n",
       "  's_pistillata',\n",
       "  's_purpuratus',\n",
       "  't_adhaerens',\n",
       "  't_aestivum',\n",
       "  'x_laevis',\n",
       "  'z_mays']}"
      ]
     },
     "metadata": {},
     "output_type": "display_data"
    }
   ],
   "source": [
    "organisms = api.organisms()\n",
    "\n",
    "display(organisms)"
   ]
  },
  {
   "cell_type": "markdown",
   "metadata": {},
   "source": [
    "### 2. Get available organs within your organism of interest:"
   ]
  },
  {
   "cell_type": "markdown",
   "metadata": {},
   "source": [
    "The following example takes an organism (*human*) as a parameter and returns a list of available organs in the API."
   ]
  },
  {
   "cell_type": "code",
   "execution_count": 8,
   "metadata": {},
   "outputs": [
    {
     "data": {
      "text/plain": [
       "['bladder',\n",
       " 'blood',\n",
       " 'colon',\n",
       " 'eye',\n",
       " 'fat',\n",
       " 'gut',\n",
       " 'heart',\n",
       " 'kidney',\n",
       " 'liver',\n",
       " 'lung',\n",
       " 'lymphnode',\n",
       " 'mammary',\n",
       " 'marrow',\n",
       " 'muscle',\n",
       " 'pancreas',\n",
       " 'prostate',\n",
       " 'salivary',\n",
       " 'skin',\n",
       " 'spleen',\n",
       " 'thymus',\n",
       " 'tongue',\n",
       " 'trachea',\n",
       " 'uterus']"
      ]
     },
     "metadata": {},
     "output_type": "display_data"
    }
   ],
   "source": [
    "# Check all available cell types in human lung\n",
    "human_organs = api.organs(organism='h_sapiens')\n",
    "\n",
    "display(human_organs)"
   ]
  },
  {
   "cell_type": "markdown",
   "metadata": {},
   "source": [
    "### 3. Get available cell types"
   ]
  },
  {
   "cell_type": "markdown",
   "metadata": {},
   "source": [
    "This function returns a list of available cell types under chosen organism(*human*) and organ(*lung*)."
   ]
  },
  {
   "cell_type": "code",
   "execution_count": 14,
   "metadata": {},
   "outputs": [
    {
     "data": {
      "text/plain": [
       "['neutrophil',\n",
       " 'basophil',\n",
       " 'monocyte',\n",
       " 'macrophage',\n",
       " 'dendritic',\n",
       " 'B',\n",
       " 'plasma',\n",
       " 'T',\n",
       " 'NK',\n",
       " 'plasmacytoid',\n",
       " 'goblet',\n",
       " 'AT1',\n",
       " 'AT2',\n",
       " 'club',\n",
       " 'ciliated',\n",
       " 'basal',\n",
       " 'serous',\n",
       " 'mucous',\n",
       " 'arterial',\n",
       " 'venous',\n",
       " 'capillary',\n",
       " 'CAP2',\n",
       " 'lymphatic',\n",
       " 'fibroblast',\n",
       " 'alveolar fibroblast',\n",
       " 'smooth muscle',\n",
       " 'vascular smooth muscle',\n",
       " 'pericyte',\n",
       " 'mesothelial',\n",
       " 'ionocyte']"
      ]
     },
     "metadata": {},
     "output_type": "display_data"
    }
   ],
   "source": [
    "celltypes_human_lung = api.celltypes(organism='h_sapiens', organ='lung', measurement_type='gene_expression')\n",
    "\n",
    "display(celltypes_human_lung)"
   ]
  },
  {
   "cell_type": "markdown",
   "metadata": {},
   "source": [
    "You can also check if your cell type of interest is included:"
   ]
  },
  {
   "cell_type": "code",
   "execution_count": null,
   "metadata": {},
   "outputs": [
    {
     "name": "stdout",
     "output_type": "stream",
     "text": [
      "NK cell is available.\n"
     ]
    }
   ],
   "source": [
    "aim_celltype = 'NK'\n",
    "\n",
    "if aim_celltype in celltypes_human_lung:\n",
    "    print(f\"{aim_celltype} cell is available.\")\n",
    "else:\n",
    "    print(f\"{aim_celltype} cell is NOT available.\")"
   ]
  },
  {
   "cell_type": "markdown",
   "metadata": {},
   "source": [
    "### 4. Check available genes within your organism of interest:"
   ]
  },
  {
   "cell_type": "markdown",
   "metadata": {},
   "source": [
    "The following example takes an organism (*human*) as a parameter and returns a list of available gene in the API."
   ]
  },
  {
   "cell_type": "code",
   "execution_count": 12,
   "metadata": {},
   "outputs": [
    {
     "name": "stdout",
     "output_type": "stream",
     "text": [
      "MTRNR2L12 gene is available in h_sapiens.\n"
     ]
    }
   ],
   "source": [
    "# convert Pandas Index to list for case-insensitive searching\n",
    "organism = 'h_sapiens'\n",
    "human_genes = api.features(organism=organism).tolist()\n",
    "aim_gene = 'MTRNR2L12'\n",
    "\n",
    "# case-insensitive searching\n",
    "if aim_gene.lower() in [element.lower() for element in human_genes]:\n",
    "    print(f\"{aim_gene} gene is available in {organism}.\")\n",
    "else:\n",
    "    print(f\"{aim_gene} gene is NOT available in {organism}.\")"
   ]
  },
  {
   "cell_type": "markdown",
   "metadata": {},
   "source": [
    "\n",
    "\n",
    "## **Conclusion**\n",
    "\n",
    "\n",
    "This tutorial provide the some basic usage of `average` in *atlasapprox*. Thank you for using *atlasapprox* API, for more detailed information, please refer to the [official documentation](https://atlasapprox.readthedocs.io/en/latest/python/index.html)."
   ]
  }
 ],
 "metadata": {
  "kernelspec": {
   "display_name": "myenv",
   "language": "python",
   "name": "python3"
  },
  "language_info": {
   "codemirror_mode": {
    "name": "ipython",
    "version": 3
   },
   "file_extension": ".py",
   "mimetype": "text/x-python",
   "name": "python",
   "nbconvert_exporter": "python",
   "pygments_lexer": "ipython3",
   "version": "3.12.4"
  }
 },
 "nbformat": 4,
 "nbformat_minor": 2
}
