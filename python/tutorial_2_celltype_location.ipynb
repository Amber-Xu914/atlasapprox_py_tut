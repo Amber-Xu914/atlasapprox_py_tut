{
 "cells": [
  {
   "cell_type": "markdown",
   "metadata": {},
   "source": [
    "# **Tutorial 2: Get the Location of a Cell Type with Atlasapprox API**"
   ]
  },
  {
   "cell_type": "markdown",
   "metadata": {},
   "source": [
    "This tutorial demonstrates the process of displaying the location/organ where a cell type is found using our [Atlasapprox API](https://atlasapprox.readthedocs.io/en/latest/python/index.html). In this guide, we will walk you through the step-by-step methodology required."
   ]
  },
  {
   "cell_type": "markdown",
   "metadata": {},
   "source": [
    "<hr>"
   ]
  },
  {
   "cell_type": "markdown",
   "metadata": {},
   "source": [
    "## **Requirments and Installation**"
   ]
  },
  {
   "cell_type": "markdown",
   "metadata": {},
   "source": [
    "To use the atlasapprox API, please use `pip` command to install the following Python packages in your terminal:\n",
    "- `requests`\n",
    "\n",
    "- `pandas`"
   ]
  },
  {
   "cell_type": "code",
   "execution_count": null,
   "metadata": {},
   "outputs": [],
   "source": [
    "pip install pandas requests"
   ]
  },
  {
   "cell_type": "markdown",
   "metadata": {},
   "source": [
    "To install *atlasapprox*, please use `pip` command as followed in your terminal."
   ]
  },
  {
   "cell_type": "code",
   "execution_count": null,
   "metadata": {},
   "outputs": [],
   "source": [
    "pip install atlasapprox"
   ]
  },
  {
   "cell_type": "markdown",
   "metadata": {},
   "source": [
    "\n",
    "\n",
    "## **Getting Started**\n",
    "\n"
   ]
  },
  {
   "cell_type": "markdown",
   "metadata": {},
   "source": [
    "Firstly, please import `atlasapprox` and `pandas`, then instantiate the `API` project."
   ]
  },
  {
   "cell_type": "code",
   "execution_count": null,
   "metadata": {},
   "outputs": [
    {
     "ename": "",
     "evalue": "",
     "output_type": "error",
     "traceback": [
      "\u001b[1;31mThe kernel failed to start as the Python Environment 'atlasapprox_tutorial (Python 3.12.4)' is no longer available. Consider selecting another kernel or refreshing the list of Python Environments."
     ]
    }
   ],
   "source": [
    "import atlasapprox\n",
    "import pandas as pd\n",
    "\n",
    "# instantiate\n",
    "api = atlasapprox.API()"
   ]
  },
  {
   "cell_type": "markdown",
   "metadata": {},
   "source": [
    "### **Example 1: Average Gene Expression in Human Lung Tissue**"
   ]
  },
  {
   "cell_type": "markdown",
   "metadata": {},
   "source": [
    "In this sample code, we  we will demonstrate how to use the `average` function to generate average gene expression data for five selected genes (*COL13A1*, *COL14A1*, *TGFBI*, *PDGFRA*, and *GZMA*) in human lung tissue.\n",
    "\n",
    "In this example, we will use *gene_expression* as measurement type."
   ]
  },
  {
   "cell_type": "code",
   "execution_count": null,
   "metadata": {},
   "outputs": [
    {
     "data": {
      "text/html": [
       "<div>\n",
       "<style scoped>\n",
       "    .dataframe tbody tr th:only-of-type {\n",
       "        vertical-align: middle;\n",
       "    }\n",
       "\n",
       "    .dataframe tbody tr th {\n",
       "        vertical-align: top;\n",
       "    }\n",
       "\n",
       "    .dataframe thead th {\n",
       "        text-align: right;\n",
       "    }\n",
       "</style>\n",
       "<table border=\"1\" class=\"dataframe\">\n",
       "  <thead>\n",
       "    <tr style=\"text-align: right;\">\n",
       "      <th></th>\n",
       "      <th>neutrophil</th>\n",
       "      <th>basophil</th>\n",
       "      <th>monocyte</th>\n",
       "      <th>macrophage</th>\n",
       "      <th>dendritic</th>\n",
       "      <th>B</th>\n",
       "      <th>plasma</th>\n",
       "      <th>T</th>\n",
       "      <th>NK</th>\n",
       "      <th>plasmacytoid</th>\n",
       "      <th>...</th>\n",
       "      <th>capillary</th>\n",
       "      <th>CAP2</th>\n",
       "      <th>lymphatic</th>\n",
       "      <th>fibroblast</th>\n",
       "      <th>alveolar fibroblast</th>\n",
       "      <th>smooth muscle</th>\n",
       "      <th>vascular smooth muscle</th>\n",
       "      <th>pericyte</th>\n",
       "      <th>mesothelial</th>\n",
       "      <th>ionocyte</th>\n",
       "    </tr>\n",
       "  </thead>\n",
       "  <tbody>\n",
       "    <tr>\n",
       "      <th>COL13A1</th>\n",
       "      <td>0.000000</td>\n",
       "      <td>0.222863</td>\n",
       "      <td>0.000000</td>\n",
       "      <td>0.000711</td>\n",
       "      <td>0.000000</td>\n",
       "      <td>0.000000</td>\n",
       "      <td>0.002205</td>\n",
       "      <td>0.000000</td>\n",
       "      <td>0.029147</td>\n",
       "      <td>0.000000</td>\n",
       "      <td>...</td>\n",
       "      <td>0.003937</td>\n",
       "      <td>0.000000</td>\n",
       "      <td>0.000000</td>\n",
       "      <td>0.005113</td>\n",
       "      <td>0.446961</td>\n",
       "      <td>0.000000</td>\n",
       "      <td>0.131642</td>\n",
       "      <td>0.067960</td>\n",
       "      <td>0.000000</td>\n",
       "      <td>0.000000</td>\n",
       "    </tr>\n",
       "    <tr>\n",
       "      <th>COL14A1</th>\n",
       "      <td>0.000000</td>\n",
       "      <td>0.000000</td>\n",
       "      <td>0.001422</td>\n",
       "      <td>0.001362</td>\n",
       "      <td>0.000000</td>\n",
       "      <td>0.000000</td>\n",
       "      <td>0.002607</td>\n",
       "      <td>0.000000</td>\n",
       "      <td>0.000000</td>\n",
       "      <td>0.000000</td>\n",
       "      <td>...</td>\n",
       "      <td>0.007525</td>\n",
       "      <td>0.026666</td>\n",
       "      <td>0.059648</td>\n",
       "      <td>1.110076</td>\n",
       "      <td>1.226022</td>\n",
       "      <td>1.033389</td>\n",
       "      <td>2.108460</td>\n",
       "      <td>0.033580</td>\n",
       "      <td>0.000000</td>\n",
       "      <td>0.000000</td>\n",
       "    </tr>\n",
       "    <tr>\n",
       "      <th>TGFBI</th>\n",
       "      <td>0.065150</td>\n",
       "      <td>0.111107</td>\n",
       "      <td>1.802062</td>\n",
       "      <td>1.252701</td>\n",
       "      <td>2.190132</td>\n",
       "      <td>0.000000</td>\n",
       "      <td>0.083882</td>\n",
       "      <td>0.100460</td>\n",
       "      <td>0.326610</td>\n",
       "      <td>4.492828</td>\n",
       "      <td>...</td>\n",
       "      <td>0.045932</td>\n",
       "      <td>0.067610</td>\n",
       "      <td>0.521915</td>\n",
       "      <td>0.393191</td>\n",
       "      <td>0.175393</td>\n",
       "      <td>0.311884</td>\n",
       "      <td>0.258512</td>\n",
       "      <td>0.119010</td>\n",
       "      <td>0.404976</td>\n",
       "      <td>0.032419</td>\n",
       "    </tr>\n",
       "    <tr>\n",
       "      <th>PDGFRA</th>\n",
       "      <td>0.000000</td>\n",
       "      <td>0.000000</td>\n",
       "      <td>0.000965</td>\n",
       "      <td>0.002414</td>\n",
       "      <td>0.003172</td>\n",
       "      <td>0.000000</td>\n",
       "      <td>0.000000</td>\n",
       "      <td>0.005035</td>\n",
       "      <td>0.000000</td>\n",
       "      <td>0.000000</td>\n",
       "      <td>...</td>\n",
       "      <td>0.011427</td>\n",
       "      <td>0.002920</td>\n",
       "      <td>0.000000</td>\n",
       "      <td>1.772957</td>\n",
       "      <td>3.724075</td>\n",
       "      <td>0.128634</td>\n",
       "      <td>0.059852</td>\n",
       "      <td>0.000000</td>\n",
       "      <td>0.332479</td>\n",
       "      <td>0.000000</td>\n",
       "    </tr>\n",
       "    <tr>\n",
       "      <th>GZMA</th>\n",
       "      <td>0.013437</td>\n",
       "      <td>0.142837</td>\n",
       "      <td>0.174047</td>\n",
       "      <td>0.029326</td>\n",
       "      <td>0.020453</td>\n",
       "      <td>0.025113</td>\n",
       "      <td>0.063292</td>\n",
       "      <td>9.006065</td>\n",
       "      <td>19.687157</td>\n",
       "      <td>0.000000</td>\n",
       "      <td>...</td>\n",
       "      <td>0.044351</td>\n",
       "      <td>0.042996</td>\n",
       "      <td>0.073877</td>\n",
       "      <td>0.029919</td>\n",
       "      <td>0.081036</td>\n",
       "      <td>0.119041</td>\n",
       "      <td>0.000000</td>\n",
       "      <td>0.460141</td>\n",
       "      <td>0.044982</td>\n",
       "      <td>0.058806</td>\n",
       "    </tr>\n",
       "  </tbody>\n",
       "</table>\n",
       "<p>5 rows × 30 columns</p>\n",
       "</div>"
      ],
      "text/plain": [
       "         neutrophil  basophil  monocyte  macrophage  dendritic         B  \\\n",
       "COL13A1    0.000000  0.222863  0.000000    0.000711   0.000000  0.000000   \n",
       "COL14A1    0.000000  0.000000  0.001422    0.001362   0.000000  0.000000   \n",
       "TGFBI      0.065150  0.111107  1.802062    1.252701   2.190132  0.000000   \n",
       "PDGFRA     0.000000  0.000000  0.000965    0.002414   0.003172  0.000000   \n",
       "GZMA       0.013437  0.142837  0.174047    0.029326   0.020453  0.025113   \n",
       "\n",
       "           plasma         T         NK  plasmacytoid  ...  capillary  \\\n",
       "COL13A1  0.002205  0.000000   0.029147      0.000000  ...   0.003937   \n",
       "COL14A1  0.002607  0.000000   0.000000      0.000000  ...   0.007525   \n",
       "TGFBI    0.083882  0.100460   0.326610      4.492828  ...   0.045932   \n",
       "PDGFRA   0.000000  0.005035   0.000000      0.000000  ...   0.011427   \n",
       "GZMA     0.063292  9.006065  19.687157      0.000000  ...   0.044351   \n",
       "\n",
       "             CAP2  lymphatic  fibroblast  alveolar fibroblast  smooth muscle  \\\n",
       "COL13A1  0.000000   0.000000    0.005113             0.446961       0.000000   \n",
       "COL14A1  0.026666   0.059648    1.110076             1.226022       1.033389   \n",
       "TGFBI    0.067610   0.521915    0.393191             0.175393       0.311884   \n",
       "PDGFRA   0.002920   0.000000    1.772957             3.724075       0.128634   \n",
       "GZMA     0.042996   0.073877    0.029919             0.081036       0.119041   \n",
       "\n",
       "         vascular smooth muscle  pericyte  mesothelial  ionocyte  \n",
       "COL13A1                0.131642  0.067960     0.000000  0.000000  \n",
       "COL14A1                2.108460  0.033580     0.000000  0.000000  \n",
       "TGFBI                  0.258512  0.119010     0.404976  0.032419  \n",
       "PDGFRA                 0.059852  0.000000     0.332479  0.000000  \n",
       "GZMA                   0.000000  0.460141     0.044982  0.058806  \n",
       "\n",
       "[5 rows x 30 columns]"
      ]
     },
     "metadata": {},
     "output_type": "display_data"
    }
   ],
   "source": [
    "avg_expr_lung = api.average(\n",
    "    organism = \"h_sapiens\", \n",
    "    organ = \"lung\", \n",
    "    features = [\"COL13A1\", \"COL14A1\", \"TGFBI\", \"PDGFRA\", \"GZMA\"], \n",
    "    measurement_type = 'gene_expression'\n",
    ")\n",
    "\n",
    "# Display the result\n",
    "avg_expr_lung"
   ]
  },
  {
   "cell_type": "markdown",
   "metadata": {},
   "source": [
    "**output:** The **avg_expr_lung** variable holds a *Pandas.DataFrame* that represents the average gene expression levels for the specified genes in various cell types within human lung tissue. Each column represents a **cell type**, and each row represents a **gene name**. This output is referred to as the \"original DataFrame\" in the next sections.\n",
    "\n",
    "These values are typically normalized counts, such as counts per ten thousand (cptt).\n"
   ]
  },
  {
   "cell_type": "markdown",
   "metadata": {},
   "source": [
    "### **Example 2. Average Chromatin Accessibility In Human Lung Tissue**"
   ]
  },
  {
   "cell_type": "markdown",
   "metadata": {},
   "source": [
    "In this sample code, we  we will demonstrate how to use the `average` function to generate average chromatin accessibility data on two locations on chromosomes (*chr1:9955-10355, chr10:122199710-122200110*) in human lung tissue.\n",
    "\n",
    "In this example, we will use *cromatin_accessibility* as measurement type."
   ]
  },
  {
   "cell_type": "code",
   "execution_count": null,
   "metadata": {},
   "outputs": [
    {
     "data": {
      "text/html": [
       "<div>\n",
       "<style scoped>\n",
       "    .dataframe tbody tr th:only-of-type {\n",
       "        vertical-align: middle;\n",
       "    }\n",
       "\n",
       "    .dataframe tbody tr th {\n",
       "        vertical-align: top;\n",
       "    }\n",
       "\n",
       "    .dataframe thead th {\n",
       "        text-align: right;\n",
       "    }\n",
       "</style>\n",
       "<table border=\"1\" class=\"dataframe\">\n",
       "  <thead>\n",
       "    <tr style=\"text-align: right;\">\n",
       "      <th></th>\n",
       "      <th>mast</th>\n",
       "      <th>macrophage</th>\n",
       "      <th>alveolar macrophage</th>\n",
       "      <th>B</th>\n",
       "      <th>plasma</th>\n",
       "      <th>T</th>\n",
       "      <th>NK</th>\n",
       "      <th>AT1</th>\n",
       "      <th>AT2</th>\n",
       "      <th>club</th>\n",
       "      <th>ciliated</th>\n",
       "      <th>capillary</th>\n",
       "      <th>lymphatic</th>\n",
       "      <th>fibroblast</th>\n",
       "      <th>smooth muscle</th>\n",
       "      <th>vascular smooth muscle</th>\n",
       "      <th>pericyte</th>\n",
       "      <th>mesothelial</th>\n",
       "      <th>neuroendocrine</th>\n",
       "    </tr>\n",
       "  </thead>\n",
       "  <tbody>\n",
       "    <tr>\n",
       "      <th>chr1:9955-10355</th>\n",
       "      <td>0.0</td>\n",
       "      <td>0.007900</td>\n",
       "      <td>0.018190</td>\n",
       "      <td>0.003077</td>\n",
       "      <td>0.017543</td>\n",
       "      <td>0.008494</td>\n",
       "      <td>0.014113</td>\n",
       "      <td>0.011353</td>\n",
       "      <td>0.010183</td>\n",
       "      <td>0.004265</td>\n",
       "      <td>0.000000</td>\n",
       "      <td>0.008808</td>\n",
       "      <td>0.040392</td>\n",
       "      <td>0.009133</td>\n",
       "      <td>0.0</td>\n",
       "      <td>0.0</td>\n",
       "      <td>0.008808</td>\n",
       "      <td>0.0</td>\n",
       "      <td>0.0</td>\n",
       "    </tr>\n",
       "    <tr>\n",
       "      <th>chr10:122199710-122200110</th>\n",
       "      <td>0.0</td>\n",
       "      <td>0.001852</td>\n",
       "      <td>0.003558</td>\n",
       "      <td>0.006129</td>\n",
       "      <td>0.000000</td>\n",
       "      <td>0.001337</td>\n",
       "      <td>0.000000</td>\n",
       "      <td>0.006590</td>\n",
       "      <td>0.006129</td>\n",
       "      <td>0.001437</td>\n",
       "      <td>0.005302</td>\n",
       "      <td>0.002567</td>\n",
       "      <td>0.000000</td>\n",
       "      <td>0.000776</td>\n",
       "      <td>0.0</td>\n",
       "      <td>0.0</td>\n",
       "      <td>0.004423</td>\n",
       "      <td>0.0</td>\n",
       "      <td>0.0</td>\n",
       "    </tr>\n",
       "  </tbody>\n",
       "</table>\n",
       "</div>"
      ],
      "text/plain": [
       "                           mast  macrophage  alveolar macrophage         B  \\\n",
       "chr1:9955-10355             0.0    0.007900             0.018190  0.003077   \n",
       "chr10:122199710-122200110   0.0    0.001852             0.003558  0.006129   \n",
       "\n",
       "                             plasma         T        NK       AT1       AT2  \\\n",
       "chr1:9955-10355            0.017543  0.008494  0.014113  0.011353  0.010183   \n",
       "chr10:122199710-122200110  0.000000  0.001337  0.000000  0.006590  0.006129   \n",
       "\n",
       "                               club  ciliated  capillary  lymphatic  \\\n",
       "chr1:9955-10355            0.004265  0.000000   0.008808   0.040392   \n",
       "chr10:122199710-122200110  0.001437  0.005302   0.002567   0.000000   \n",
       "\n",
       "                           fibroblast  smooth muscle  vascular smooth muscle  \\\n",
       "chr1:9955-10355              0.009133            0.0                     0.0   \n",
       "chr10:122199710-122200110    0.000776            0.0                     0.0   \n",
       "\n",
       "                           pericyte  mesothelial  neuroendocrine  \n",
       "chr1:9955-10355            0.008808          0.0             0.0  \n",
       "chr10:122199710-122200110  0.004423          0.0             0.0  "
      ]
     },
     "metadata": {},
     "output_type": "display_data"
    }
   ],
   "source": [
    "avg_chr_acc_lung = api.average(\n",
    "    organism = \"h_sapiens\", \n",
    "    organ = \"lung\", \n",
    "    features = [\"chr1:9955-10355\", \"chr10:122199710-122200110\"], \n",
    "    measurement_type = 'chromatin_accessibility'\n",
    ")\n",
    "\n",
    "# Display the result\n",
    "avg_chr_acc_lung"
   ]
  },
  {
   "cell_type": "markdown",
   "metadata": {},
   "source": [
    "**output:** The **avg_chr_acc_lung** variable holds a *Pandas.DataFrame* that represents the average chromatin accessibility for the specified chromosome locations in various cell types within human lung tissue. Each column represents a **cell type**, and each row represents a **chromosome location**. \n",
    "\n",
    "These values are typically normalized counts, such as counts per ten thousand (cptt).\n",
    "\n",
    "This output can also be used as original data in the later steps. Please remember, atlasapprox API only holds chromatin accessibility for human (*h_sapiens*) currently.\n"
   ]
  },
  {
   "cell_type": "markdown",
   "metadata": {},
   "source": [
    "## **Get started**"
   ]
  },
  {
   "cell_type": "markdown",
   "metadata": {},
   "source": [
    "First, instantiate the API object:"
   ]
  },
  {
   "cell_type": "code",
   "execution_count": 5,
   "metadata": {},
   "outputs": [],
   "source": [
    "api = atlasapprox.API()"
   ]
  },
  {
   "cell_type": "markdown",
   "metadata": {},
   "source": [
    "To get the organs/locations where a cell type is found, we need the following parameters:\n",
    "\n",
    "- organism (the organism to query).\n",
    "\n",
    "- cell_type (The cell type to get markers for).\n",
    "\n",
    "- measurement_type."
   ]
  },
  {
   "cell_type": "code",
   "execution_count": 16,
   "metadata": {},
   "outputs": [
    {
     "data": {
      "text/html": [
       "<div>\n",
       "<style scoped>\n",
       "    .dataframe tbody tr th:only-of-type {\n",
       "        vertical-align: middle;\n",
       "    }\n",
       "\n",
       "    .dataframe tbody tr th {\n",
       "        vertical-align: top;\n",
       "    }\n",
       "\n",
       "    .dataframe thead th {\n",
       "        text-align: right;\n",
       "    }\n",
       "</style>\n",
       "<table border=\"1\" class=\"dataframe\">\n",
       "  <thead>\n",
       "    <tr style=\"text-align: right;\">\n",
       "      <th></th>\n",
       "      <th>Organs</th>\n",
       "    </tr>\n",
       "  </thead>\n",
       "  <tbody>\n",
       "    <tr>\n",
       "      <th>1</th>\n",
       "      <td>bladder</td>\n",
       "    </tr>\n",
       "    <tr>\n",
       "      <th>2</th>\n",
       "      <td>blood</td>\n",
       "    </tr>\n",
       "    <tr>\n",
       "      <th>3</th>\n",
       "      <td>eye</td>\n",
       "    </tr>\n",
       "    <tr>\n",
       "      <th>4</th>\n",
       "      <td>fat</td>\n",
       "    </tr>\n",
       "    <tr>\n",
       "      <th>5</th>\n",
       "      <td>heart</td>\n",
       "    </tr>\n",
       "    <tr>\n",
       "      <th>6</th>\n",
       "      <td>kidney</td>\n",
       "    </tr>\n",
       "    <tr>\n",
       "      <th>7</th>\n",
       "      <td>liver</td>\n",
       "    </tr>\n",
       "    <tr>\n",
       "      <th>8</th>\n",
       "      <td>lung</td>\n",
       "    </tr>\n",
       "    <tr>\n",
       "      <th>9</th>\n",
       "      <td>lymphnode</td>\n",
       "    </tr>\n",
       "    <tr>\n",
       "      <th>10</th>\n",
       "      <td>mammary</td>\n",
       "    </tr>\n",
       "    <tr>\n",
       "      <th>11</th>\n",
       "      <td>marrow</td>\n",
       "    </tr>\n",
       "    <tr>\n",
       "      <th>12</th>\n",
       "      <td>muscle</td>\n",
       "    </tr>\n",
       "    <tr>\n",
       "      <th>13</th>\n",
       "      <td>prostate</td>\n",
       "    </tr>\n",
       "    <tr>\n",
       "      <th>14</th>\n",
       "      <td>salivary</td>\n",
       "    </tr>\n",
       "    <tr>\n",
       "      <th>15</th>\n",
       "      <td>skin</td>\n",
       "    </tr>\n",
       "    <tr>\n",
       "      <th>16</th>\n",
       "      <td>spleen</td>\n",
       "    </tr>\n",
       "    <tr>\n",
       "      <th>17</th>\n",
       "      <td>thymus</td>\n",
       "    </tr>\n",
       "    <tr>\n",
       "      <th>18</th>\n",
       "      <td>tongue</td>\n",
       "    </tr>\n",
       "    <tr>\n",
       "      <th>19</th>\n",
       "      <td>trachea</td>\n",
       "    </tr>\n",
       "    <tr>\n",
       "      <th>20</th>\n",
       "      <td>uterus</td>\n",
       "    </tr>\n",
       "  </tbody>\n",
       "</table>\n",
       "</div>"
      ],
      "text/plain": [
       "       Organs\n",
       "1     bladder\n",
       "2       blood\n",
       "3         eye\n",
       "4         fat\n",
       "5       heart\n",
       "6      kidney\n",
       "7       liver\n",
       "8        lung\n",
       "9   lymphnode\n",
       "10    mammary\n",
       "11     marrow\n",
       "12     muscle\n",
       "13   prostate\n",
       "14   salivary\n",
       "15       skin\n",
       "16     spleen\n",
       "17     thymus\n",
       "18     tongue\n",
       "19    trachea\n",
       "20     uterus"
      ]
     },
     "execution_count": 16,
     "metadata": {},
     "output_type": "execute_result"
    }
   ],
   "source": [
    "celltype_lacation = api.celltype_location(\n",
    "    organism = \"h_sapiens\",\n",
    "    cell_type =  \"macrophage\", \n",
    "    measurement_type = \"gene_expression\"\n",
    ")\n",
    "\n",
    "df_organs = pd.DataFrame(celltype_lacation, columns=['Organs'])\n",
    "df_organs.index = df_organs.index + 1\n",
    "\n",
    "df_organs"
   ]
  },
  {
   "cell_type": "markdown",
   "metadata": {},
   "source": [
    "This code returns a pandas.DataFrame containing a list of organs that include macrophages."
   ]
  },
  {
   "cell_type": "markdown",
   "metadata": {},
   "source": [
    "## **Useful methods**"
   ]
  },
  {
   "cell_type": "markdown",
   "metadata": {},
   "source": [
    "### **search if a specific organ is included**"
   ]
  },
  {
   "cell_type": "code",
   "execution_count": 25,
   "metadata": {},
   "outputs": [
    {
     "data": {
      "text/html": [
       "<div>\n",
       "<style scoped>\n",
       "    .dataframe tbody tr th:only-of-type {\n",
       "        vertical-align: middle;\n",
       "    }\n",
       "\n",
       "    .dataframe tbody tr th {\n",
       "        vertical-align: top;\n",
       "    }\n",
       "\n",
       "    .dataframe thead th {\n",
       "        text-align: right;\n",
       "    }\n",
       "</style>\n",
       "<table border=\"1\" class=\"dataframe\">\n",
       "  <thead>\n",
       "    <tr style=\"text-align: right;\">\n",
       "      <th></th>\n",
       "      <th>Organs</th>\n",
       "    </tr>\n",
       "  </thead>\n",
       "  <tbody>\n",
       "    <tr>\n",
       "      <th>9</th>\n",
       "      <td>lymphnode</td>\n",
       "    </tr>\n",
       "  </tbody>\n",
       "</table>\n",
       "</div>"
      ],
      "text/plain": [
       "      Organs\n",
       "9  lymphnode"
      ]
     },
     "execution_count": 25,
     "metadata": {},
     "output_type": "execute_result"
    }
   ],
   "source": [
    "# Search for a specific string in the 'Organs' column\n",
    "search_organ = 'lymphnode'\n",
    "\n",
    "# map the target organ, if it is in the list, return organ name.\n",
    "mask = df_organs.map(lambda x: search_organ in str(x))\n",
    "display_result = df_organs[mask.any(axis=1)]\n",
    "\n",
    "display_result"
   ]
  }
 ],
 "metadata": {
  "kernelspec": {
   "display_name": "Python 3",
   "language": "python",
   "name": "python3"
  },
  "language_info": {
   "codemirror_mode": {
    "name": "ipython",
    "version": 3
   },
   "file_extension": ".py",
   "mimetype": "text/x-python",
   "name": "python",
   "nbconvert_exporter": "python",
   "pygments_lexer": "ipython3",
   "version": "3.12.4"
  }
 },
 "nbformat": 4,
 "nbformat_minor": 2
}
