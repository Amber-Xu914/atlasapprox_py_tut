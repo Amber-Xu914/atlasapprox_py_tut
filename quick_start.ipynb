{
 "cells": [
  {
   "cell_type": "markdown",
   "metadata": {},
   "source": [
    "# **Quick Start on atlasapprox API**"
   ]
  },
  {
   "cell_type": "markdown",
   "metadata": {},
   "source": [
    "The `atlasapprox` API offers light and scalable approximations of cell atlases. Start here to explore the extensive diversity of **cells across 28 species**, including twenty-two animals and six plants, such as *humans*, *mice*, and *sponges*."
   ]
  },
  {
   "cell_type": "markdown",
   "metadata": {},
   "source": [
    "<hr>"
   ]
  },
  {
   "cell_type": "markdown",
   "metadata": {},
   "source": [
    "## **Getting Started**"
   ]
  },
  {
   "cell_type": "markdown",
   "metadata": {},
   "source": [
    "### **Set Environment**"
   ]
  },
  {
   "cell_type": "markdown",
   "metadata": {},
   "source": [
    "To maintain consistent dependencies, here is an easy way to set up a suitable virtual environment:"
   ]
  },
  {
   "cell_type": "code",
   "execution_count": null,
   "metadata": {},
   "outputs": [],
   "source": [
    "# Set python envrionment\n",
    "python -m venv myenv\n",
    "\n",
    "# Activate your environment (choose one of them based on your OS)\n",
    "\n",
    "# For macOS/Linux users\n",
    "source myenv/bin/activate\n",
    "# For Windows users\n",
    "myenv\\Scripts\\activate "
   ]
  },
  {
   "cell_type": "markdown",
   "metadata": {},
   "source": [
    "### **Installation**"
   ]
  },
  {
   "cell_type": "code",
   "execution_count": null,
   "metadata": {},
   "outputs": [],
   "source": [
    "# Install atlasapprox python package\n",
    "pip install atlasapprox"
   ]
  },
  {
   "cell_type": "markdown",
   "metadata": {},
   "source": [
    "### **Import package**"
   ]
  },
  {
   "cell_type": "code",
   "execution_count": 17,
   "metadata": {},
   "outputs": [],
   "source": [
    "# Import atlasapprox package and create an API object\n",
    "import atlasapprox\n",
    "\n",
    "api = atlasapprox.API()"
   ]
  },
  {
   "cell_type": "markdown",
   "metadata": {},
   "source": [
    "Now is good to begin. Below is a straightforward example illustrating the usage of one of the `atlasapprox` functions:"
   ]
  },
  {
   "cell_type": "markdown",
   "metadata": {},
   "source": [
    "## **Getting Average Gene Expression**"
   ]
  },
  {
   "cell_type": "markdown",
   "metadata": {},
   "source": [
    "To present concise data effectively, most functions require specific parameters. \n",
    "\n",
    "The `average` function, for instance, allows you to retrieve the *average gene expression* data for selected genes within a specific organ of an organism. Below is a quick example of how to call the `average` function within the API. In this example, we focus on five genes (*COL13A1*, *COL14A1*, *TGFBI*, *PDGFRA*, *GZMA*) in the *h_sapiens* lung:"
   ]
  },
  {
   "cell_type": "code",
   "execution_count": 16,
   "metadata": {},
   "outputs": [
    {
     "data": {
      "text/html": [
       "<div>\n",
       "<style scoped>\n",
       "    .dataframe tbody tr th:only-of-type {\n",
       "        vertical-align: middle;\n",
       "    }\n",
       "\n",
       "    .dataframe tbody tr th {\n",
       "        vertical-align: top;\n",
       "    }\n",
       "\n",
       "    .dataframe thead th {\n",
       "        text-align: right;\n",
       "    }\n",
       "</style>\n",
       "<table border=\"1\" class=\"dataframe\">\n",
       "  <thead>\n",
       "    <tr style=\"text-align: right;\">\n",
       "      <th></th>\n",
       "      <th>neutrophil</th>\n",
       "      <th>basophil</th>\n",
       "      <th>monocyte</th>\n",
       "      <th>macrophage</th>\n",
       "      <th>dendritic</th>\n",
       "      <th>B</th>\n",
       "      <th>plasma</th>\n",
       "      <th>T</th>\n",
       "      <th>NK</th>\n",
       "      <th>plasmacytoid</th>\n",
       "      <th>...</th>\n",
       "      <th>capillary</th>\n",
       "      <th>CAP2</th>\n",
       "      <th>lymphatic</th>\n",
       "      <th>fibroblast</th>\n",
       "      <th>alveolar fibroblast</th>\n",
       "      <th>smooth muscle</th>\n",
       "      <th>vascular smooth muscle</th>\n",
       "      <th>pericyte</th>\n",
       "      <th>mesothelial</th>\n",
       "      <th>ionocyte</th>\n",
       "    </tr>\n",
       "  </thead>\n",
       "  <tbody>\n",
       "    <tr>\n",
       "      <th>COL13A1</th>\n",
       "      <td>0.000000</td>\n",
       "      <td>0.222863</td>\n",
       "      <td>0.000000</td>\n",
       "      <td>0.000711</td>\n",
       "      <td>0.000000</td>\n",
       "      <td>0.000000</td>\n",
       "      <td>0.002205</td>\n",
       "      <td>0.000000</td>\n",
       "      <td>0.029147</td>\n",
       "      <td>0.000000</td>\n",
       "      <td>...</td>\n",
       "      <td>0.003937</td>\n",
       "      <td>0.000000</td>\n",
       "      <td>0.000000</td>\n",
       "      <td>0.005113</td>\n",
       "      <td>0.446961</td>\n",
       "      <td>0.000000</td>\n",
       "      <td>0.131642</td>\n",
       "      <td>0.067960</td>\n",
       "      <td>0.000000</td>\n",
       "      <td>0.000000</td>\n",
       "    </tr>\n",
       "    <tr>\n",
       "      <th>COL14A1</th>\n",
       "      <td>0.000000</td>\n",
       "      <td>0.000000</td>\n",
       "      <td>0.001422</td>\n",
       "      <td>0.001362</td>\n",
       "      <td>0.000000</td>\n",
       "      <td>0.000000</td>\n",
       "      <td>0.002607</td>\n",
       "      <td>0.000000</td>\n",
       "      <td>0.000000</td>\n",
       "      <td>0.000000</td>\n",
       "      <td>...</td>\n",
       "      <td>0.007525</td>\n",
       "      <td>0.026666</td>\n",
       "      <td>0.059648</td>\n",
       "      <td>1.110076</td>\n",
       "      <td>1.226022</td>\n",
       "      <td>1.033389</td>\n",
       "      <td>2.108460</td>\n",
       "      <td>0.033580</td>\n",
       "      <td>0.000000</td>\n",
       "      <td>0.000000</td>\n",
       "    </tr>\n",
       "    <tr>\n",
       "      <th>TGFBI</th>\n",
       "      <td>0.065150</td>\n",
       "      <td>0.111107</td>\n",
       "      <td>1.802062</td>\n",
       "      <td>1.252701</td>\n",
       "      <td>2.190132</td>\n",
       "      <td>0.000000</td>\n",
       "      <td>0.083882</td>\n",
       "      <td>0.100460</td>\n",
       "      <td>0.326610</td>\n",
       "      <td>4.492828</td>\n",
       "      <td>...</td>\n",
       "      <td>0.045932</td>\n",
       "      <td>0.067610</td>\n",
       "      <td>0.521915</td>\n",
       "      <td>0.393191</td>\n",
       "      <td>0.175393</td>\n",
       "      <td>0.311884</td>\n",
       "      <td>0.258512</td>\n",
       "      <td>0.119010</td>\n",
       "      <td>0.404976</td>\n",
       "      <td>0.032419</td>\n",
       "    </tr>\n",
       "    <tr>\n",
       "      <th>PDGFRA</th>\n",
       "      <td>0.000000</td>\n",
       "      <td>0.000000</td>\n",
       "      <td>0.000965</td>\n",
       "      <td>0.002414</td>\n",
       "      <td>0.003172</td>\n",
       "      <td>0.000000</td>\n",
       "      <td>0.000000</td>\n",
       "      <td>0.005035</td>\n",
       "      <td>0.000000</td>\n",
       "      <td>0.000000</td>\n",
       "      <td>...</td>\n",
       "      <td>0.011427</td>\n",
       "      <td>0.002920</td>\n",
       "      <td>0.000000</td>\n",
       "      <td>1.772957</td>\n",
       "      <td>3.724075</td>\n",
       "      <td>0.128634</td>\n",
       "      <td>0.059852</td>\n",
       "      <td>0.000000</td>\n",
       "      <td>0.332479</td>\n",
       "      <td>0.000000</td>\n",
       "    </tr>\n",
       "    <tr>\n",
       "      <th>GZMA</th>\n",
       "      <td>0.013437</td>\n",
       "      <td>0.142837</td>\n",
       "      <td>0.174047</td>\n",
       "      <td>0.029326</td>\n",
       "      <td>0.020453</td>\n",
       "      <td>0.025113</td>\n",
       "      <td>0.063292</td>\n",
       "      <td>9.006065</td>\n",
       "      <td>19.687157</td>\n",
       "      <td>0.000000</td>\n",
       "      <td>...</td>\n",
       "      <td>0.044351</td>\n",
       "      <td>0.042996</td>\n",
       "      <td>0.073877</td>\n",
       "      <td>0.029919</td>\n",
       "      <td>0.081036</td>\n",
       "      <td>0.119041</td>\n",
       "      <td>0.000000</td>\n",
       "      <td>0.460141</td>\n",
       "      <td>0.044982</td>\n",
       "      <td>0.058806</td>\n",
       "    </tr>\n",
       "  </tbody>\n",
       "</table>\n",
       "<p>5 rows × 30 columns</p>\n",
       "</div>"
      ],
      "text/plain": [
       "         neutrophil  basophil  monocyte  macrophage  dendritic         B  \\\n",
       "COL13A1    0.000000  0.222863  0.000000    0.000711   0.000000  0.000000   \n",
       "COL14A1    0.000000  0.000000  0.001422    0.001362   0.000000  0.000000   \n",
       "TGFBI      0.065150  0.111107  1.802062    1.252701   2.190132  0.000000   \n",
       "PDGFRA     0.000000  0.000000  0.000965    0.002414   0.003172  0.000000   \n",
       "GZMA       0.013437  0.142837  0.174047    0.029326   0.020453  0.025113   \n",
       "\n",
       "           plasma         T         NK  plasmacytoid  ...  capillary  \\\n",
       "COL13A1  0.002205  0.000000   0.029147      0.000000  ...   0.003937   \n",
       "COL14A1  0.002607  0.000000   0.000000      0.000000  ...   0.007525   \n",
       "TGFBI    0.083882  0.100460   0.326610      4.492828  ...   0.045932   \n",
       "PDGFRA   0.000000  0.005035   0.000000      0.000000  ...   0.011427   \n",
       "GZMA     0.063292  9.006065  19.687157      0.000000  ...   0.044351   \n",
       "\n",
       "             CAP2  lymphatic  fibroblast  alveolar fibroblast  smooth muscle  \\\n",
       "COL13A1  0.000000   0.000000    0.005113             0.446961       0.000000   \n",
       "COL14A1  0.026666   0.059648    1.110076             1.226022       1.033389   \n",
       "TGFBI    0.067610   0.521915    0.393191             0.175393       0.311884   \n",
       "PDGFRA   0.002920   0.000000    1.772957             3.724075       0.128634   \n",
       "GZMA     0.042996   0.073877    0.029919             0.081036       0.119041   \n",
       "\n",
       "         vascular smooth muscle  pericyte  mesothelial  ionocyte  \n",
       "COL13A1                0.131642  0.067960     0.000000  0.000000  \n",
       "COL14A1                2.108460  0.033580     0.000000  0.000000  \n",
       "TGFBI                  0.258512  0.119010     0.404976  0.032419  \n",
       "PDGFRA                 0.059852  0.000000     0.332479  0.000000  \n",
       "GZMA                   0.000000  0.460141     0.044982  0.058806  \n",
       "\n",
       "[5 rows x 30 columns]"
      ]
     },
     "execution_count": 16,
     "metadata": {},
     "output_type": "execute_result"
    }
   ],
   "source": [
    "# Call API function with params\n",
    "avg_gene_expr_lung = api.average(\n",
    "    organism = \"h_sapiens\", \n",
    "    organ = \"lung\", \n",
    "    features = [\"COL13A1\", \"COL14A1\", \"TGFBI\", \"PDGFRA\", \"GZMA\"], \n",
    "    measurement_type = 'gene_expression'\n",
    ")\n",
    "\n",
    "# Display the result\n",
    "avg_gene_expr_lung"
   ]
  },
  {
   "cell_type": "markdown",
   "metadata": {},
   "source": [
    "### **Output**\n",
    "\n",
    "The output is stored in the *avg_expr_lung* variable as a *Pandas.DataFrame*, each column corresponds to a **cell type**, and each row represents a **gene**.\n",
    "\n",
    "*avg_expr_lung* displays the average gene expression (measured in counts per ten thousand, or cptt) for the selected genes across various cell types. "
   ]
  },
  {
   "cell_type": "markdown",
   "metadata": {},
   "source": [
    "## **Another Example using Average function**"
   ]
  },
  {
   "cell_type": "markdown",
   "metadata": {},
   "source": [
    "*Gene expression* is set as a default measurement type for every function. *Chromatin accessibility* data is also available, but currently for **humans** only. To explore this feature, simply adjust your query to focus on *chromatin accessibility* instead of gene expression:"
   ]
  },
  {
   "cell_type": "code",
   "execution_count": 15,
   "metadata": {},
   "outputs": [
    {
     "data": {
      "text/html": [
       "<div>\n",
       "<style scoped>\n",
       "    .dataframe tbody tr th:only-of-type {\n",
       "        vertical-align: middle;\n",
       "    }\n",
       "\n",
       "    .dataframe tbody tr th {\n",
       "        vertical-align: top;\n",
       "    }\n",
       "\n",
       "    .dataframe thead th {\n",
       "        text-align: right;\n",
       "    }\n",
       "</style>\n",
       "<table border=\"1\" class=\"dataframe\">\n",
       "  <thead>\n",
       "    <tr style=\"text-align: right;\">\n",
       "      <th></th>\n",
       "      <th>mast</th>\n",
       "      <th>macrophage</th>\n",
       "      <th>alveolar macrophage</th>\n",
       "      <th>B</th>\n",
       "      <th>plasma</th>\n",
       "      <th>T</th>\n",
       "      <th>NK</th>\n",
       "      <th>AT1</th>\n",
       "      <th>AT2</th>\n",
       "      <th>club</th>\n",
       "      <th>ciliated</th>\n",
       "      <th>capillary</th>\n",
       "      <th>lymphatic</th>\n",
       "      <th>fibroblast</th>\n",
       "      <th>smooth muscle</th>\n",
       "      <th>vascular smooth muscle</th>\n",
       "      <th>pericyte</th>\n",
       "      <th>mesothelial</th>\n",
       "      <th>neuroendocrine</th>\n",
       "    </tr>\n",
       "  </thead>\n",
       "  <tbody>\n",
       "    <tr>\n",
       "      <th>chr1:9955-10355</th>\n",
       "      <td>0.0</td>\n",
       "      <td>0.007900</td>\n",
       "      <td>0.018190</td>\n",
       "      <td>0.003077</td>\n",
       "      <td>0.017543</td>\n",
       "      <td>0.008494</td>\n",
       "      <td>0.014113</td>\n",
       "      <td>0.011353</td>\n",
       "      <td>0.010183</td>\n",
       "      <td>0.004265</td>\n",
       "      <td>0.000000</td>\n",
       "      <td>0.008808</td>\n",
       "      <td>0.040392</td>\n",
       "      <td>0.009133</td>\n",
       "      <td>0.0</td>\n",
       "      <td>0.0</td>\n",
       "      <td>0.008808</td>\n",
       "      <td>0.0</td>\n",
       "      <td>0.0</td>\n",
       "    </tr>\n",
       "    <tr>\n",
       "      <th>chr10:122199710-122200110</th>\n",
       "      <td>0.0</td>\n",
       "      <td>0.001852</td>\n",
       "      <td>0.003558</td>\n",
       "      <td>0.006129</td>\n",
       "      <td>0.000000</td>\n",
       "      <td>0.001337</td>\n",
       "      <td>0.000000</td>\n",
       "      <td>0.006590</td>\n",
       "      <td>0.006129</td>\n",
       "      <td>0.001437</td>\n",
       "      <td>0.005302</td>\n",
       "      <td>0.002567</td>\n",
       "      <td>0.000000</td>\n",
       "      <td>0.000776</td>\n",
       "      <td>0.0</td>\n",
       "      <td>0.0</td>\n",
       "      <td>0.004423</td>\n",
       "      <td>0.0</td>\n",
       "      <td>0.0</td>\n",
       "    </tr>\n",
       "  </tbody>\n",
       "</table>\n",
       "</div>"
      ],
      "text/plain": [
       "                           mast  macrophage  alveolar macrophage         B  \\\n",
       "chr1:9955-10355             0.0    0.007900             0.018190  0.003077   \n",
       "chr10:122199710-122200110   0.0    0.001852             0.003558  0.006129   \n",
       "\n",
       "                             plasma         T        NK       AT1       AT2  \\\n",
       "chr1:9955-10355            0.017543  0.008494  0.014113  0.011353  0.010183   \n",
       "chr10:122199710-122200110  0.000000  0.001337  0.000000  0.006590  0.006129   \n",
       "\n",
       "                               club  ciliated  capillary  lymphatic  \\\n",
       "chr1:9955-10355            0.004265  0.000000   0.008808   0.040392   \n",
       "chr10:122199710-122200110  0.001437  0.005302   0.002567   0.000000   \n",
       "\n",
       "                           fibroblast  smooth muscle  vascular smooth muscle  \\\n",
       "chr1:9955-10355              0.009133            0.0                     0.0   \n",
       "chr10:122199710-122200110    0.000776            0.0                     0.0   \n",
       "\n",
       "                           pericyte  mesothelial  neuroendocrine  \n",
       "chr1:9955-10355            0.008808          0.0             0.0  \n",
       "chr10:122199710-122200110  0.004423          0.0             0.0  "
      ]
     },
     "execution_count": 15,
     "metadata": {},
     "output_type": "execute_result"
    }
   ],
   "source": [
    "# Call API function with params\n",
    "avg_chrom_access_lung = api.average(\n",
    "    organism = \"h_sapiens\", \n",
    "    organ = \"lung\", \n",
    "    features = ['chr1:9955-10355', 'chr10:122199710-122200110'],    # set genomic regions as feature input\n",
    "    measurement_type = 'chromatin_accessibility'        # change measurement_type to chromatin_accessibility\n",
    ")\n",
    "\n",
    "# Display the result\n",
    "avg_chrom_access_lung"
   ]
  },
  {
   "cell_type": "markdown",
   "metadata": {},
   "source": [
    "### **Output**\n",
    "\n",
    "The output is stored in the *chrom_access_lung* variable as a *Pandas.DataFrame*, each column corresponds to a **cell type**, and each row represents a **specific genomic region**.\n",
    "\n",
    "The value displayed the *average fraction* accessible for the selected genomic regions across various cell types, representing the proportion of cells in which a specific genomic region is accessible."
   ]
  },
  {
   "cell_type": "markdown",
   "metadata": {},
   "source": [
    "## **Start from Scratch**"
   ]
  },
  {
   "cell_type": "markdown",
   "metadata": {},
   "source": [
    "It’s perfectly fine if you are exploring the API from scratch. Here are some easy functions to explore the available libraries and resources:"
   ]
  },
  {
   "cell_type": "code",
   "execution_count": null,
   "metadata": {},
   "outputs": [],
   "source": [
    "# Get a list of all available organisms.\n",
    "api.organisms()"
   ]
  },
  {
   "cell_type": "code",
   "execution_count": null,
   "metadata": {},
   "outputs": [],
   "source": [
    "# Get all available organs regards to given organism and measurement type\n",
    "api.organs()"
   ]
  },
  {
   "cell_type": "markdown",
   "metadata": {},
   "source": [
    "## **Related Tutorials List (Comming Soon)**"
   ]
  },
  {
   "cell_type": "markdown",
   "metadata": {},
   "source": [
    "Tutorial Summary for `atlasapprox` API:\n",
    "\n",
    "- Average gene expression/chromatin accessibility in a specific cell type ([average tutorial](hyperlink))\n",
    "- Locations of a cell type ([celltype location tutorial](hyperlink))\n",
    "- Highest measurements by cell type across an organism ([highest measurement tutorial](hyperlink))\n",
    "- Marker features (e.g., genes) for a cell type within an organ ([markers tutorial](hyperlink))\n",
    "- Table of all cell types x organs across an organism ([celltypexorgan tutorial](hyperlink))\n",
    "- Cell types most similar to a focal one across organs ([similar cell types tutorial](hyperlink))\n",
    "- Features in a specific organ and organism ([features tutorial](hyperlink))\n",
    "- Sequences of requested features and their types ([sequence tutorial](hyperlink))\n",
    "- Features most similar to a focal one ([similar features tutorial](hyperlink))\n",
    "- Fraction of detected gene expression for specific features ([fraction detected tutorial](hyperlink))\n",
    "- Data for a dot plot of average and fraction detected for specific features ([dot plot tutorial](hyperlink))\n",
    "- Neighborhood or cell state information ([neighborhood tutorial](hyperlink))"
   ]
  },
  {
   "cell_type": "markdown",
   "metadata": {},
   "source": [
    "## **Conclusion**"
   ]
  },
  {
   "cell_type": "markdown",
   "metadata": {},
   "source": [
    "Thank you for reading to the end. For more information about `atlasapprox`, refer to `atlasapprox` [documentation](https://atlasapprox.readthedocs.io/en/latest/python/index.html). For detailed coding examples, check out `atlasapprox` [GitHub repository](https://github.com/fabilab/cell_atlas_approximations).\n",
    "\n",
    "Additionally, you might also find `atlasapprox` [website](https://atlasapprox.org/) useful."
   ]
  }
 ],
 "metadata": {
  "kernelspec": {
   "display_name": "atlasapprox_tutorial",
   "language": "python",
   "name": "python3"
  },
  "language_info": {
   "codemirror_mode": {
    "name": "ipython",
    "version": 3
   },
   "file_extension": ".py",
   "mimetype": "text/x-python",
   "name": "python",
   "nbconvert_exporter": "python",
   "pygments_lexer": "ipython3",
   "version": "3.12.4"
  }
 },
 "nbformat": 4,
 "nbformat_minor": 2
}
