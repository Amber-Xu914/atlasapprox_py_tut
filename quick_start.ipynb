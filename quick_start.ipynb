{
 "cells": [
  {
   "cell_type": "markdown",
   "metadata": {},
   "source": [
    "# **Quick Start on atlasapprox API**\n",
    "written by Amber Xu from Fabilab, edited on 12/08/2024"
   ]
  },
  {
   "cell_type": "markdown",
   "metadata": {},
   "source": [
    "Welcome to Cell `atlasapprox`! Here, you can explore the diverse world of **cells** across 28 species, including *humans*, *mice*, *sponges*, and more (To find all available organisms, refer to our *organisms* function.). Whether you're looking for average gene expressions, average chromatin accessibility, cell type extensions, cell feature extensions, [cell states](https://igraph.org/) related information, or anything else related, you've come to the right place. Let's begin your journey into the fascinating world of cell atlas approximations!"
   ]
  },
  {
   "cell_type": "markdown",
   "metadata": {},
   "source": [
    "## **Environment and Installation**"
   ]
  },
  {
   "cell_type": "markdown",
   "metadata": {},
   "source": [
    "To maintain consistent dependencies, it is recommended to use `atlasapprox` within virtual environments. Here is an easy way to set up a suitable one:"
   ]
  },
  {
   "cell_type": "code",
   "execution_count": null,
   "metadata": {},
   "outputs": [],
   "source": [
    "# Set python envrionment\n",
    "python -m venv myenv\n",
    "\n",
    "# Activate your environment (choose one of them based on your OS)\n",
    "source myenv/bin/activate   # macOS/Linux command\n",
    "myenv\\Scripts\\activate  #Windows command\n",
    "\n",
    "# Install atlasapprox python package\n",
    "pip install atlasapprox"
   ]
  },
  {
   "cell_type": "markdown",
   "metadata": {},
   "source": [
    "Additionally, Anaconda is another excellent option for setting up a virtual environment. We have a dedicated [walkthrough](<font color=\"red\">slow_start_link</font>) available for your convenience."
   ]
  },
  {
   "cell_type": "markdown",
   "metadata": {},
   "source": [
    "## **Getting Started**"
   ]
  },
  {
   "cell_type": "markdown",
   "metadata": {},
   "source": [
    "\n",
    "Let's import the `atlasapprox` package and create an API object:"
   ]
  },
  {
   "cell_type": "code",
   "execution_count": null,
   "metadata": {},
   "outputs": [],
   "source": [
    "import atlasapprox\n",
    "\n",
    "api = atlasapprox.API()"
   ]
  },
  {
   "cell_type": "markdown",
   "metadata": {},
   "source": [
    "Now we are ready to explore our `atlasapprox` API! If you already have a specific aim for your research, let's dive directly into our functions tutorial to find out if there's anything that interests you. Also, here is a simple example demonstrating how to use one of our functions:"
   ]
  },
  {
   "cell_type": "markdown",
   "metadata": {},
   "source": [
    "## **Getting Average Gene Expression with `atlasapprox` API**"
   ]
  },
  {
   "cell_type": "markdown",
   "metadata": {},
   "source": [
    "To present concise data effectively, most of our functions require specific parameters. Here’s a quick example to demonstrate how to call the average function in the API. Suppose we want to determine the average expression of selected genes across all cell types in human lungs. Here’s one way to do this using the `atlasapprox` API:"
   ]
  },
  {
   "cell_type": "code",
   "execution_count": 3,
   "metadata": {},
   "outputs": [
    {
     "data": {
      "text/html": [
       "<div>\n",
       "<style scoped>\n",
       "    .dataframe tbody tr th:only-of-type {\n",
       "        vertical-align: middle;\n",
       "    }\n",
       "\n",
       "    .dataframe tbody tr th {\n",
       "        vertical-align: top;\n",
       "    }\n",
       "\n",
       "    .dataframe thead th {\n",
       "        text-align: right;\n",
       "    }\n",
       "</style>\n",
       "<table border=\"1\" class=\"dataframe\">\n",
       "  <thead>\n",
       "    <tr style=\"text-align: right;\">\n",
       "      <th></th>\n",
       "      <th>neutrophil</th>\n",
       "      <th>basophil</th>\n",
       "      <th>monocyte</th>\n",
       "      <th>macrophage</th>\n",
       "      <th>dendritic</th>\n",
       "      <th>B</th>\n",
       "      <th>plasma</th>\n",
       "      <th>T</th>\n",
       "      <th>NK</th>\n",
       "      <th>plasmacytoid</th>\n",
       "      <th>...</th>\n",
       "      <th>capillary</th>\n",
       "      <th>CAP2</th>\n",
       "      <th>lymphatic</th>\n",
       "      <th>fibroblast</th>\n",
       "      <th>alveolar fibroblast</th>\n",
       "      <th>smooth muscle</th>\n",
       "      <th>vascular smooth muscle</th>\n",
       "      <th>pericyte</th>\n",
       "      <th>mesothelial</th>\n",
       "      <th>ionocyte</th>\n",
       "    </tr>\n",
       "  </thead>\n",
       "  <tbody>\n",
       "    <tr>\n",
       "      <th>COL13A1</th>\n",
       "      <td>0.000000</td>\n",
       "      <td>0.222863</td>\n",
       "      <td>0.000000</td>\n",
       "      <td>0.000711</td>\n",
       "      <td>0.000000</td>\n",
       "      <td>0.000000</td>\n",
       "      <td>0.002205</td>\n",
       "      <td>0.000000</td>\n",
       "      <td>0.029147</td>\n",
       "      <td>0.000000</td>\n",
       "      <td>...</td>\n",
       "      <td>0.003937</td>\n",
       "      <td>0.000000</td>\n",
       "      <td>0.000000</td>\n",
       "      <td>0.005113</td>\n",
       "      <td>0.446961</td>\n",
       "      <td>0.000000</td>\n",
       "      <td>0.131642</td>\n",
       "      <td>0.067960</td>\n",
       "      <td>0.000000</td>\n",
       "      <td>0.000000</td>\n",
       "    </tr>\n",
       "    <tr>\n",
       "      <th>COL14A1</th>\n",
       "      <td>0.000000</td>\n",
       "      <td>0.000000</td>\n",
       "      <td>0.001422</td>\n",
       "      <td>0.001362</td>\n",
       "      <td>0.000000</td>\n",
       "      <td>0.000000</td>\n",
       "      <td>0.002607</td>\n",
       "      <td>0.000000</td>\n",
       "      <td>0.000000</td>\n",
       "      <td>0.000000</td>\n",
       "      <td>...</td>\n",
       "      <td>0.007525</td>\n",
       "      <td>0.026666</td>\n",
       "      <td>0.059648</td>\n",
       "      <td>1.110076</td>\n",
       "      <td>1.226022</td>\n",
       "      <td>1.033389</td>\n",
       "      <td>2.108460</td>\n",
       "      <td>0.033580</td>\n",
       "      <td>0.000000</td>\n",
       "      <td>0.000000</td>\n",
       "    </tr>\n",
       "    <tr>\n",
       "      <th>TGFBI</th>\n",
       "      <td>0.065150</td>\n",
       "      <td>0.111107</td>\n",
       "      <td>1.802062</td>\n",
       "      <td>1.252701</td>\n",
       "      <td>2.190132</td>\n",
       "      <td>0.000000</td>\n",
       "      <td>0.083882</td>\n",
       "      <td>0.100460</td>\n",
       "      <td>0.326610</td>\n",
       "      <td>4.492828</td>\n",
       "      <td>...</td>\n",
       "      <td>0.045932</td>\n",
       "      <td>0.067610</td>\n",
       "      <td>0.521915</td>\n",
       "      <td>0.393191</td>\n",
       "      <td>0.175393</td>\n",
       "      <td>0.311884</td>\n",
       "      <td>0.258512</td>\n",
       "      <td>0.119010</td>\n",
       "      <td>0.404976</td>\n",
       "      <td>0.032419</td>\n",
       "    </tr>\n",
       "    <tr>\n",
       "      <th>PDGFRA</th>\n",
       "      <td>0.000000</td>\n",
       "      <td>0.000000</td>\n",
       "      <td>0.000965</td>\n",
       "      <td>0.002414</td>\n",
       "      <td>0.003172</td>\n",
       "      <td>0.000000</td>\n",
       "      <td>0.000000</td>\n",
       "      <td>0.005035</td>\n",
       "      <td>0.000000</td>\n",
       "      <td>0.000000</td>\n",
       "      <td>...</td>\n",
       "      <td>0.011427</td>\n",
       "      <td>0.002920</td>\n",
       "      <td>0.000000</td>\n",
       "      <td>1.772957</td>\n",
       "      <td>3.724075</td>\n",
       "      <td>0.128634</td>\n",
       "      <td>0.059852</td>\n",
       "      <td>0.000000</td>\n",
       "      <td>0.332479</td>\n",
       "      <td>0.000000</td>\n",
       "    </tr>\n",
       "    <tr>\n",
       "      <th>GZMA</th>\n",
       "      <td>0.013437</td>\n",
       "      <td>0.142837</td>\n",
       "      <td>0.174047</td>\n",
       "      <td>0.029326</td>\n",
       "      <td>0.020453</td>\n",
       "      <td>0.025113</td>\n",
       "      <td>0.063292</td>\n",
       "      <td>9.006065</td>\n",
       "      <td>19.687157</td>\n",
       "      <td>0.000000</td>\n",
       "      <td>...</td>\n",
       "      <td>0.044351</td>\n",
       "      <td>0.042996</td>\n",
       "      <td>0.073877</td>\n",
       "      <td>0.029919</td>\n",
       "      <td>0.081036</td>\n",
       "      <td>0.119041</td>\n",
       "      <td>0.000000</td>\n",
       "      <td>0.460141</td>\n",
       "      <td>0.044982</td>\n",
       "      <td>0.058806</td>\n",
       "    </tr>\n",
       "  </tbody>\n",
       "</table>\n",
       "<p>5 rows × 30 columns</p>\n",
       "</div>"
      ],
      "text/plain": [
       "         neutrophil  basophil  monocyte  macrophage  dendritic         B  \\\n",
       "COL13A1    0.000000  0.222863  0.000000    0.000711   0.000000  0.000000   \n",
       "COL14A1    0.000000  0.000000  0.001422    0.001362   0.000000  0.000000   \n",
       "TGFBI      0.065150  0.111107  1.802062    1.252701   2.190132  0.000000   \n",
       "PDGFRA     0.000000  0.000000  0.000965    0.002414   0.003172  0.000000   \n",
       "GZMA       0.013437  0.142837  0.174047    0.029326   0.020453  0.025113   \n",
       "\n",
       "           plasma         T         NK  plasmacytoid  ...  capillary  \\\n",
       "COL13A1  0.002205  0.000000   0.029147      0.000000  ...   0.003937   \n",
       "COL14A1  0.002607  0.000000   0.000000      0.000000  ...   0.007525   \n",
       "TGFBI    0.083882  0.100460   0.326610      4.492828  ...   0.045932   \n",
       "PDGFRA   0.000000  0.005035   0.000000      0.000000  ...   0.011427   \n",
       "GZMA     0.063292  9.006065  19.687157      0.000000  ...   0.044351   \n",
       "\n",
       "             CAP2  lymphatic  fibroblast  alveolar fibroblast  smooth muscle  \\\n",
       "COL13A1  0.000000   0.000000    0.005113             0.446961       0.000000   \n",
       "COL14A1  0.026666   0.059648    1.110076             1.226022       1.033389   \n",
       "TGFBI    0.067610   0.521915    0.393191             0.175393       0.311884   \n",
       "PDGFRA   0.002920   0.000000    1.772957             3.724075       0.128634   \n",
       "GZMA     0.042996   0.073877    0.029919             0.081036       0.119041   \n",
       "\n",
       "         vascular smooth muscle  pericyte  mesothelial  ionocyte  \n",
       "COL13A1                0.131642  0.067960     0.000000  0.000000  \n",
       "COL14A1                2.108460  0.033580     0.000000  0.000000  \n",
       "TGFBI                  0.258512  0.119010     0.404976  0.032419  \n",
       "PDGFRA                 0.059852  0.000000     0.332479  0.000000  \n",
       "GZMA                   0.000000  0.460141     0.044982  0.058806  \n",
       "\n",
       "[5 rows x 30 columns]"
      ]
     },
     "execution_count": 3,
     "metadata": {},
     "output_type": "execute_result"
    }
   ],
   "source": [
    "# Call API function with params\n",
    "avg_expr_lung = api.average(\n",
    "    organism = \"h_sapiens\", \n",
    "    organ = \"lung\", \n",
    "    features = [\"COL13A1\", \"COL14A1\", \"TGFBI\", \"PDGFRA\", \"GZMA\"], \n",
    "    measurement_type = 'gene_expression'\n",
    ")\n",
    "\n",
    "# Display the result\n",
    "avg_expr_lung"
   ]
  },
  {
   "cell_type": "markdown",
   "metadata": {},
   "source": [
    "The `average` function is particularly effective when you have a specific target for the **organism**, **organ**, and **genes**. In this example, we focus on five genes (*COL13A1*, *COL14A1*, *TGFBI*, *PDGFRA*, *GZMA*) in the human (*h_sapiens*) lung.\n",
    "\n",
    "The output is stored in the *avg_expr_lung* variable as a *Pandas.DataFrame*, which displays the average gene expression (measured in counts per ten thousand, or cptt) for the selected genes across various cell types. Each column corresponds to a **cell type**, and each row represents a **gene**.\n",
    "\n",
    "For more detailed usage, refer to our average [average tutorial](<font color=\"red\">link to average expression tut</font>). It covers topics such as processing raw data, retrieving gene expression for multiple organs or organisms simultaneously, and additional features."
   ]
  },
  {
   "cell_type": "markdown",
   "metadata": {},
   "source": [
    "## **Explore Your Research Goals with `atlasapprox` API**"
   ]
  },
  {
   "cell_type": "markdown",
   "metadata": {},
   "source": [
    "It’s perfectly fine if you don’t have a specific aim in mind yet. Take some time to explore the available libraries and resources—you might discover something that captures your interest along the way:"
   ]
  },
  {
   "cell_type": "code",
   "execution_count": null,
   "metadata": {},
   "outputs": [],
   "source": [
    "# Get a list of all measurement types.\n",
    "api.measurement_types()"
   ]
  },
  {
   "cell_type": "code",
   "execution_count": null,
   "metadata": {},
   "outputs": [],
   "source": [
    "# Get a list of all available organisms.\n",
    "api.organisms(measurement_type='gene_expression')"
   ]
  },
  {
   "cell_type": "code",
   "execution_count": null,
   "metadata": {},
   "outputs": [],
   "source": [
    "# Get all available organs regards to given organism and measurement type\n",
    "api.organs(organism='h_sapiens', measurement_type='gene_expression')"
   ]
  },
  {
   "cell_type": "markdown",
   "metadata": {},
   "source": [
    "For more detailed information, let's move to our [library display tutorial](<font color=\"red\">link to library display tut</font>)."
   ]
  },
  {
   "cell_type": "markdown",
   "metadata": {},
   "source": [
    "## **Related Tutorials List**"
   ]
  },
  {
   "cell_type": "markdown",
   "metadata": {},
   "source": [
    "Tutorial Summary:\n",
    "\n",
    "- Average gene expression/chromatin accessibility in a specific cell type ([average tutorial](hyperlink))\n",
    "- Locations of a cell type ([celltype location tutorial](hyperlink))\n",
    "- Highest measurements by cell type across an organism ([highest measurement tutorial](hyperlink))\n",
    "- Marker features (e.g., genes) for a cell type within an organ ([markers tutorial](hyperlink))\n",
    "- Table of all cell types x organs across an organism ([celltypexorgan tutorial](hyperlink))\n",
    "- Cell types most similar to a focal one across organs ([similar celltypes tutorial](hyperlink))\n",
    "- Features in a specific organ and organism ([features tutorial](hyperlink))\n",
    "- Sequences of requested features and their types ([sequence tutorial](hyperlink))\n",
    "- Features most similar to a focal one ([similar features tutorial](hyperlink))\n",
    "- Fraction of detected gene expression for specific features ([fraction detected tutorial](hyperlink))\n",
    "- Data for a dot plot of average and fraction detected for specific features ([dot plot tutorial](hyperlink))\n",
    "- Neighborhood or cell state information ([neighborhood tutorial](hyperlink))"
   ]
  },
  {
   "cell_type": "markdown",
   "metadata": {},
   "source": [
    "## **Conclusion**"
   ]
  },
  {
   "cell_type": "markdown",
   "metadata": {},
   "source": [
    "Thank you for reading to the end. We hope the `atlasapprox` API proves valuable for your research. For a detailed introduction, please visit our [slow start tutorial](<font color=\"red\">link to slow start tut</font>). For more information about `atlasapprox`, refer to our [documentation](https://atlasapprox.readthedocs.io/en/latest/python/index.html). For detailed coding examples, check out our [GitHub repository](https://github.com/fabilab/cell_atlas_approximations).\n",
    "\n",
    "Additionally, you might also find our [website](https://atlasapprox.org/) useful.\n",
    "\n",
    "We wish you a successful and insightful journey with `atlasapprox`!"
   ]
  }
 ],
 "metadata": {
  "kernelspec": {
   "display_name": "atlasapprox_tutorial",
   "language": "python",
   "name": "python3"
  },
  "language_info": {
   "codemirror_mode": {
    "name": "ipython",
    "version": 3
   },
   "file_extension": ".py",
   "mimetype": "text/x-python",
   "name": "python",
   "nbconvert_exporter": "python",
   "pygments_lexer": "ipython3",
   "version": "3.12.4"
  }
 },
 "nbformat": 4,
 "nbformat_minor": 2
}
