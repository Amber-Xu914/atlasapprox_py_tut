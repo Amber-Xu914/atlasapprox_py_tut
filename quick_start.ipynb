{
 "cells": [
  {
   "cell_type": "markdown",
   "metadata": {},
   "source": [
    "# **Quisk Start on Atlasapprox API**\n",
    "written by Amber Xu from Fabilab"
   ]
  },
  {
   "cell_type": "markdown",
   "metadata": {},
   "source": [
    "Welcome to the cell atlasapprox! This is a quick way to explore **cell diversity across various organisms and organs**. Whether you are looking for marker genes for a specific cell type, average gene expression in human lungs, or a dot plot showing the expression of a list of genes, you've come to the right place. Let's get started on your journey to the world of cell atlas approximations!"
   ]
  },
  {
   "cell_type": "markdown",
   "metadata": {},
   "source": [
    "## Environment and Installation"
   ]
  },
  {
   "cell_type": "markdown",
   "metadata": {},
   "source": [
    "AtlasApprox works fine with local environments, here is an easy way to set the local environment we need:"
   ]
  },
  {
   "cell_type": "code",
   "execution_count": null,
   "metadata": {},
   "outputs": [],
   "source": [
    "# Set python envrionment\n",
    "python -m venv myenv\n",
    "source myenv/bin/activate\n",
    "\n",
    "# Install atlasapprox python package\n",
    "pip install atlasapprox"
   ]
  },
  {
   "cell_type": "markdown",
   "metadata": {},
   "source": [
    "It is always a good idea to stay with this environment while working with AtlasApprox API. Also [ANACONDA](https://www.anaconda.com/download) is another excellent option, we have a dedicated [walkthrough](<font color=\"red\">link to slow start tut</font>) available for your interest."
   ]
  },
  {
   "cell_type": "markdown",
   "metadata": {},
   "source": [
    "## Getting Started"
   ]
  },
  {
   "cell_type": "markdown",
   "metadata": {},
   "source": [
    "Let's import the package `atlasapprox` and creating an `API` project:"
   ]
  },
  {
   "cell_type": "code",
   "execution_count": 7,
   "metadata": {},
   "outputs": [],
   "source": [
    "import atlasapprox\n",
    "\n",
    "api = atlasapprox.API()"
   ]
  },
  {
   "cell_type": "markdown",
   "metadata": {},
   "source": [
    "Now we can get started by using the AtlasApprox API. Here is a simple example that demonstrates how to use one of our functions:"
   ]
  },
  {
   "cell_type": "markdown",
   "metadata": {},
   "source": [
    "## Getting Average Gene Expression with AtlasApprox API"
   ]
  },
  {
   "cell_type": "markdown",
   "metadata": {},
   "source": [
    "To present concise data effectively, most of our functions require specific parameters. Here is a quick example to display how to call `average` function. Let's say we've just learned about human lung tissue, and now we want to figure out some average gene expression in it. \n",
    "\n",
    "Here is one of the ways we can do this using the AtlasApprox API:"
   ]
  },
  {
   "cell_type": "code",
   "execution_count": null,
   "metadata": {},
   "outputs": [],
   "source": [
    "avg_expr_lung = api.average(\n",
    "    organism = \"h_sapiens\", \n",
    "    organ = \"lung\", \n",
    "    features = [\"COL13A1\", \"COL14A1\", \"TGFBI\", \"PDGFRA\", \"GZMA\"], \n",
    "    measurement_type = 'gene_expression'\n",
    ")\n",
    "\n",
    "# Display the result\n",
    "avg_expr_lung"
   ]
  },
  {
   "cell_type": "markdown",
   "metadata": {},
   "source": [
    "Our `average` function is powerful when you have a clear target on the **organism**, **organ** and **genes**. In this example, we focus on 5 genes (*\"COL13A1\", \"COL14A1\", \"TGFBI\", \"PDGFRA\", \"GZMA\"*) in human's (*h_sapiens*) lung.\n",
    "\n",
    "For the output, **avg_expr_lung** variable holds a *Pandas.DataFrame* that represents the average gene expression (unit: counts per ten thousand/cptt) for chosen genes in various cell types. Each column represents a **cell type**, and each row represents a **gene name**. \n",
    "\n",
    "If you find this useful, Let's discover more in our [average gene expression tutorial](<font color=\"red\">link to average expression tut</font>). This tutorial includes how to handle your raw data and how to retrieve gene expression for multiple organs or organisms simultaneously, etc."
   ]
  },
  {
   "cell_type": "markdown",
   "metadata": {},
   "source": [
    "It's also okay if you don't have a specific goal in mind yet. Let's explore the library and resources we have, and you might discover something you are interested in along the way:"
   ]
  },
  {
   "cell_type": "code",
   "execution_count": null,
   "metadata": {},
   "outputs": [],
   "source": [
    "# Get a list of all measurement types.\n",
    "api.measurement_types()"
   ]
  },
  {
   "cell_type": "code",
   "execution_count": null,
   "metadata": {},
   "outputs": [],
   "source": [
    "# Get a list of all available organisms.\n",
    "api.organisms(measurement_type='gene_expression')"
   ]
  },
  {
   "cell_type": "code",
   "execution_count": null,
   "metadata": {},
   "outputs": [],
   "source": [
    "# Get all available organs regards to given organism and measurement type\n",
    "api.organs(organism='h_sapiens', measurement_type='gene_expression')"
   ]
  },
  {
   "cell_type": "markdown",
   "metadata": {},
   "source": [
    "For more detailed information, let's move to our [library display tutorial](<font color=\"red\">link to library display tut</font>)."
   ]
  },
  {
   "cell_type": "markdown",
   "metadata": {},
   "source": [
    "## Conclusion"
   ]
  },
  {
   "cell_type": "markdown",
   "metadata": {},
   "source": [
    "Thank you for reading until the end, we hope our AtlasApprox API is helpful for your research. For detailed starting tutorial, you can visit our [slow start tutorial](<font color=\"red\">link to slow start tut</font>). For more information about AtlasApprox, you can refer to our [documentation](https://atlasapprox.readthedocs.io/en/latest/python/index.html). For more detailed coding, you can refer to our [GitHub](https://github.com/fabilab/cell_atlas_approximations).\n",
    "\n",
    "Additionally, you might also find our [website](https://atlasapprox.org/) useful. \n",
    "\n",
    "We hope you have a wonderful journey with AtlasApprox!"
   ]
  }
 ],
 "metadata": {
  "kernelspec": {
   "display_name": "atlasapprox_tutorial",
   "language": "python",
   "name": "python3"
  },
  "language_info": {
   "codemirror_mode": {
    "name": "ipython",
    "version": 3
   },
   "file_extension": ".py",
   "mimetype": "text/x-python",
   "name": "python",
   "nbconvert_exporter": "python",
   "pygments_lexer": "ipython3",
   "version": "3.12.4"
  }
 },
 "nbformat": 4,
 "nbformat_minor": 2
}
